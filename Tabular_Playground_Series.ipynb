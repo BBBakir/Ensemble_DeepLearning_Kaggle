{
  "cells": [
    {
      "cell_type": "markdown",
      "metadata": {
        "id": "2FR3sm82TFHB"
      },
      "source": [
        "#Data Importing and Preprocessing"
      ]
    },
    {
      "cell_type": "markdown",
      "metadata": {
        "id": "VQYyLayacdsg"
      },
      "source": [
        "## Importing Libraries and Defining General Functions"
      ]
    },
    {
      "cell_type": "code",
      "execution_count": null,
      "metadata": {
        "colab": {
          "base_uri": "https://localhost:8080/"
        },
        "id": "9zRdcJ-hVcge",
        "outputId": "77eedd9f-3ae9-4d98-895f-befe4c2fe7d7"
      },
      "outputs": [
        {
          "output_type": "stream",
          "name": "stdout",
          "text": [
            "Looking in indexes: https://pypi.org/simple, https://us-python.pkg.dev/colab-wheels/public/simple/\n",
            "Requirement already satisfied: catboost in /usr/local/lib/python3.7/dist-packages (1.0.6)\n",
            "Requirement already satisfied: pandas>=0.24.0 in /usr/local/lib/python3.7/dist-packages (from catboost) (1.3.5)\n",
            "Requirement already satisfied: plotly in /usr/local/lib/python3.7/dist-packages (from catboost) (5.5.0)\n",
            "Requirement already satisfied: graphviz in /usr/local/lib/python3.7/dist-packages (from catboost) (0.10.1)\n",
            "Requirement already satisfied: numpy>=1.16.0 in /usr/local/lib/python3.7/dist-packages (from catboost) (1.21.6)\n",
            "Requirement already satisfied: matplotlib in /usr/local/lib/python3.7/dist-packages (from catboost) (3.2.2)\n",
            "Requirement already satisfied: six in /usr/local/lib/python3.7/dist-packages (from catboost) (1.15.0)\n",
            "Requirement already satisfied: scipy in /usr/local/lib/python3.7/dist-packages (from catboost) (1.7.3)\n",
            "Requirement already satisfied: python-dateutil>=2.7.3 in /usr/local/lib/python3.7/dist-packages (from pandas>=0.24.0->catboost) (2.8.2)\n",
            "Requirement already satisfied: pytz>=2017.3 in /usr/local/lib/python3.7/dist-packages (from pandas>=0.24.0->catboost) (2022.1)\n",
            "Requirement already satisfied: kiwisolver>=1.0.1 in /usr/local/lib/python3.7/dist-packages (from matplotlib->catboost) (1.4.4)\n",
            "Requirement already satisfied: cycler>=0.10 in /usr/local/lib/python3.7/dist-packages (from matplotlib->catboost) (0.11.0)\n",
            "Requirement already satisfied: pyparsing!=2.0.4,!=2.1.2,!=2.1.6,>=2.0.1 in /usr/local/lib/python3.7/dist-packages (from matplotlib->catboost) (3.0.9)\n",
            "Requirement already satisfied: typing-extensions in /usr/local/lib/python3.7/dist-packages (from kiwisolver>=1.0.1->matplotlib->catboost) (4.1.1)\n",
            "Requirement already satisfied: tenacity>=6.2.0 in /usr/local/lib/python3.7/dist-packages (from plotly->catboost) (8.0.1)\n"
          ]
        }
      ],
      "source": [
        "pip install catboost"
      ]
    },
    {
      "cell_type": "code",
      "execution_count": null,
      "metadata": {
        "id": "Vk0ddi1sY58p"
      },
      "outputs": [],
      "source": [
        "import numpy as np\n",
        "import pandas as pd\n",
        "import seaborn as sns\n",
        "from matplotlib import pyplot as plt\n",
        "\n",
        "import missingno as msno\n",
        "from datetime import date\n",
        "from sklearn.metrics import accuracy_score, roc_auc_score, confusion_matrix, classification_report, plot_roc_curve\n",
        "from sklearn.svm import SVC\n",
        "from lightgbm import LGBMClassifier\n",
        "from sklearn.linear_model import LogisticRegression\n",
        "from sklearn.model_selection import train_test_split, RandomizedSearchCV, GridSearchCV, cross_validate\n",
        "from sklearn.neighbors import LocalOutlierFactor, KNeighborsClassifier\n",
        "from sklearn.preprocessing import MinMaxScaler, LabelEncoder, StandardScaler, RobustScaler\n",
        "from sklearn.ensemble import GradientBoostingClassifier,VotingClassifier, AdaBoostClassifier,RandomForestClassifier\n",
        "from sklearn.impute import KNNImputer\n",
        "from sklearn.tree import DecisionTreeClassifier\n",
        "from xgboost import XGBClassifier\n",
        "import tensorflow as tf\n",
        "from datetime import date\n",
        "from catboost import CatBoostClassifier"
      ]
    },
    {
      "cell_type": "code",
      "execution_count": null,
      "metadata": {
        "id": "I77aVTBWcM8x"
      },
      "outputs": [],
      "source": [
        "# Pandas Specifications\n",
        "pd.set_option('display.max_columns', None)\n",
        "pd.set_option('display.max_rows', None)\n",
        "pd.set_option('display.float_format', lambda x: '%.3f' % x)\n",
        "pd.set_option('display.width', 500)"
      ]
    },
    {
      "cell_type": "code",
      "execution_count": null,
      "metadata": {
        "id": "tqXY64idZGBJ"
      },
      "outputs": [],
      "source": [
        "\n",
        "def outlier_lim(dataframe, col_name, q1=0.01, q3=0.99):\n",
        "    quartile1 = dataframe[col_name].quantile(q1)\n",
        "    quartile3 = dataframe[col_name].quantile(q3)\n",
        "    interquantile_range = quartile3 - quartile1\n",
        "    up_limit = quartile3 + 1.5 * interquantile_range\n",
        "    low_limit = quartile1 - 1.5 * interquantile_range\n",
        "    return low_limit, up_limit\n",
        "\n",
        "def correlation_matrix(df, cols):\n",
        "    fig = plt.gcf()\n",
        "    fig.set_size_inches(10, 8)\n",
        "    plt.xticks(fontsize=10)\n",
        "    plt.yticks(fontsize=10)\n",
        "    fig = sns.heatmap(df[cols].corr(), annot=True, linewidths=0.5, annot_kws={'size': 12}, linecolor='w', cmap='RdBu')\n",
        "    plt.show(block=True)\n",
        "\n",
        "def outlier_checker(dataframe, col_name):\n",
        "    low_limit, up_limit = outlier_lim(dataframe, col_name)\n",
        "    if dataframe[(dataframe[col_name] > up_limit) | (dataframe[col_name] < low_limit)].any(axis=None):\n",
        "        return True\n",
        "    else:\n",
        "        return False\n",
        "\n",
        "\n",
        "def col_types(dataframe, cat_th=10, car_th=30):\n",
        "    \"\"\"\n",
        "\n",
        "    Veri setindeki kategorik, numerik ve kategorik fakat kardinal değişkenlerin isimlerini verir.\n",
        "    Not: Kategorik değişkenlerin içerisine numerik görünümlü kategorik değişkenler de dahildir.\n",
        "\n",
        "    Parameters\n",
        "    ------\n",
        "        dataframe: dataframe\n",
        "                Dataframe for isnpection\n",
        "        cat_th: int, optional\n",
        "                categorical columns that seem like numerical\n",
        "        car_th: int, optinal\n",
        "                cardinal columns that seem like categorical\n",
        "\n",
        "    Returns\n",
        "    ------\n",
        "        cat_cols: list\n",
        "                categorical column names list\n",
        "        num_cols: list\n",
        "                numerical column names list\n",
        "        cat_but_car: list\n",
        "                cardinal column names list\n",
        "\n",
        "    Examples\n",
        "    ------\n",
        "        import seaborn as sns\n",
        "        df = sns.load_dataset(\"iris\")\n",
        "        print(grab_col_names(df))\n",
        "\n",
        "\n",
        "    Notes\n",
        "    ------\n",
        "        cat_cols + num_cols + cat_but_car = toplam değişken sayısı\n",
        "\n",
        "\n",
        "    \"\"\"\n",
        "\n",
        "    # cat_cols, cat_but_car\n",
        "    cat_cols = [col for col in dataframe.columns if dataframe[col].dtypes == \"O\"]\n",
        "    num_but_cat = [col for col in dataframe.columns if dataframe[col].nunique() < cat_th and\n",
        "                   dataframe[col].dtypes != \"O\"]\n",
        "    cat_but_car = [col for col in dataframe.columns if dataframe[col].nunique() > car_th and\n",
        "                   dataframe[col].dtypes == \"O\"]\n",
        "    cat_cols = cat_cols + num_but_cat\n",
        "    cat_cols = [col for col in cat_cols if col not in cat_but_car]\n",
        "\n",
        "    # num_cols\n",
        "    num_cols = [col for col in dataframe.columns if dataframe[col].dtypes != \"O\"]\n",
        "    num_cols = [col for col in num_cols if col not in num_but_cat]\n",
        "\n",
        "    print(f\"Observations: {dataframe.shape[0]}\")\n",
        "    print(f\"Variables: {dataframe.shape[1]}\")\n",
        "    print(f'cat_cols: {len(cat_cols)}')\n",
        "    print(f'num_cols: {len(num_cols)}')\n",
        "    print(f'cat_but_car: {len(cat_but_car)}')\n",
        "    print(f'num_but_cat: {len(num_but_cat)}')\n",
        "    return cat_cols, num_cols, cat_but_car\n",
        "\n",
        "\n",
        "def outlier_rows(dataframe, col_name, index=False, q1=0.01, q2=0.99,prnt=True):\n",
        "    low, up = outlier_lim(dataframe, col_name, q1, q2)\n",
        "    if prnt:\n",
        "        if dataframe[((dataframe[col_name] < low) | (dataframe[col_name] > up))].shape[0] > 10:\n",
        "            print(dataframe[((dataframe[col_name] < low) | (dataframe[col_name] > up))].head())\n",
        "        elif dataframe[((dataframe[col_name] < low) | (dataframe[col_name] > up))].shape[0] == 0:\n",
        "            print(\"No Outliers\\n\")\n",
        "        else:\n",
        "            print(dataframe[((dataframe[col_name] < low) | (dataframe[col_name] > up))])\n",
        "\n",
        "    if index:\n",
        "        outlier_index = dataframe[((dataframe[col_name] < low) | (dataframe[col_name] > up))].index\n",
        "        return outlier_index\n",
        "\n",
        "\n",
        "def outlier_remover(dataframe, col_name):\n",
        "    low_limit, up_limit = outlier_lim(dataframe, col_name)\n",
        "    df_without_outliers = dataframe[~((dataframe[col_name] < low_limit) | (dataframe[col_name] > up_limit))]\n",
        "    return df_without_outliers\n",
        "\n",
        "\n",
        "def outlier_threplacer(dataframe, variable):\n",
        "    low_limit, up_limit = outlier_lim(dataframe, variable)\n",
        "    dataframe.loc[(dataframe[variable] < low_limit), variable] = low_limit\n",
        "    dataframe.loc[(dataframe[variable] > up_limit), variable] = up_limit\n",
        "\n",
        "\n",
        "def missing_col(dataframe, na_name=False):\n",
        "    na_columns = [col for col in dataframe.columns if dataframe[col].isnull().sum() > 0]\n",
        "\n",
        "    n_miss = dataframe[na_columns].isnull().sum().sort_values(ascending=False)\n",
        "    ratio = (dataframe[na_columns].isnull().sum() / dataframe.shape[0] * 100).sort_values(ascending=False)\n",
        "    missing_df = pd.concat([n_miss, np.round(ratio, 2)], axis=1, keys=['n_miss', 'ratio'])\n",
        "    print(missing_df, end=\"\\n\")\n",
        "\n",
        "    if na_name:\n",
        "        return na_columns\n",
        "\n",
        "\n",
        "def one_hot_encoder(dataframe, categorical_cols, drop_first=True):\n",
        "    dataframe = pd.get_dummies(dataframe, columns=categorical_cols, drop_first=drop_first)\n",
        "    return dataframe\n",
        "\n",
        "\n",
        "def label_encoder(dataframe, binary_col):\n",
        "    labelencoder = LabelEncoder()\n",
        "    dataframe[binary_col] = labelencoder.fit_transform(dataframe[binary_col])\n",
        "    return dataframe\n",
        "\n",
        "\n",
        "def rare_analyser(dataframe, target, cat_cols):\n",
        "    for col in cat_cols:\n",
        "        print(col, \":\", len(dataframe[col].value_counts()))\n",
        "        print(pd.DataFrame({\"COUNT\": dataframe[col].value_counts(),\n",
        "                            \"RATIO\": dataframe[col].value_counts() / len(dataframe),\n",
        "                            \"TARGET_MEAN\": dataframe.groupby(col)[target].mean()}), end=\"\\n\\n\\n\")\n",
        "\n",
        "\n",
        "def rare_encoder(dataframe, rare_perc):\n",
        "    temp_df = dataframe.copy()\n",
        "\n",
        "    rare_columns = [col for col in temp_df.columns if temp_df[col].dtypes == 'O'\n",
        "                    and (temp_df[col].value_counts() / len(temp_df) < rare_perc).any(axis=None)]\n",
        "\n",
        "    for var in rare_columns:\n",
        "        tmp = temp_df[var].value_counts() / len(temp_df)\n",
        "        rare_labels = tmp[tmp < rare_perc].index\n",
        "        temp_df[var] = np.where(temp_df[var].isin(rare_labels), 'Rare', temp_df[var])\n",
        "\n",
        "    return temp_df\n",
        "\n",
        "\n",
        "def importance_plot(model, features, num, save=False):\n",
        "    feature_imp = pd.DataFrame({'Value': model.feature_importances_, 'Feature': features.columns})\n",
        "    plt.figure(figsize=(10, 10))\n",
        "    sns.set(font_scale=1)\n",
        "    sns.barplot(x=\"Value\", y=\"Feature\", data=feature_imp.sort_values(by=\"Value\",\n",
        "                                                                     ascending=False)[0:num])\n",
        "    plt.title('Features')\n",
        "    plt.tight_layout()\n",
        "    plt.show()\n",
        "    if save:\n",
        "        plt.savefig('importances.png')\n",
        "\n",
        "\n",
        "def cat_prop(dataframe, col_name, plot=False):\n",
        "    print(pd.DataFrame({col_name: dataframe[col_name].value_counts(),\n",
        "                        \"Ratio\": 100 * dataframe[col_name].value_counts() / len(dataframe)}))\n",
        "    print(\"##########################################\")\n",
        "    if plot:\n",
        "        sns.countplot(x=dataframe[col_name], data=dataframe)\n",
        "        plt.show()\n",
        "\n",
        "def val_curve_params(model, X, y, param_name, param_range, scoring=\"roc_auc\", cv=10):\n",
        "    train_score, test_score = validation_curve(\n",
        "        model, X=X, y=y, param_name=param_name, param_range=param_range, scoring=scoring, cv=cv)\n",
        "\n",
        "    mean_train_score = np.mean(train_score, axis=1)\n",
        "    mean_test_score = np.mean(test_score, axis=1)\n",
        "\n",
        "    plt.plot(param_range, mean_train_score,\n",
        "             label=\"Training Score\", color='b')\n",
        "\n",
        "    plt.plot(param_range, mean_test_score,\n",
        "             label=\"Validation Score\", color='g')\n",
        "\n",
        "    plt.title(f\"Validation Curve for {type(model).__name__}\")\n",
        "    plt.xlabel(f\"Number of {param_name}\")\n",
        "    plt.ylabel(f\"{scoring}\")\n",
        "    plt.tight_layout()\n",
        "    plt.legend(loc='best')\n",
        "    plt.show(block=True)\n",
        "\n",
        "\n",
        "\n",
        "\n",
        "######Classifier Params\n",
        "\n",
        "\n",
        "\n",
        "knn_params = {\"n_neighbors\": range(2, 50, 5)}\n",
        "\n",
        "cart_params = {'max_depth': range(1, 20),\n",
        "               \"min_samples_split\": range(2, 30)}\n",
        "\n",
        "rf_params = {\"max_depth\": [8, 15, None],\n",
        "             \"max_features\": [5, 7, \"auto\"],\n",
        "             \"min_samples_split\": [15, 20],\n",
        "             \"n_estimators\": [200, 300]}\n",
        "\n",
        "xgboost_params = {\"learning_rate\": [0.1, 0.01],\n",
        "                  \"max_depth\": [5, 8],\n",
        "                  \"n_estimators\": [100, 200],\n",
        "                  \"colsample_bytree\": [0.5, 1]}\n",
        "\n",
        "lightgbm_params = {\"learning_rate\": [0.01, 0.1],\n",
        "                   \"n_estimators\": [300, 500],\n",
        "                   \"colsample_bytree\": [0.7, 1]}\n",
        "\n",
        "r_classifiers = [('KNN', KNeighborsClassifier(), knn_params),\n",
        "               (\"CART\", DecisionTreeClassifier(), cart_params),\n",
        "               (\"RF\", RandomForestClassifier(), rf_params),\n",
        "               ('XGBoost', XGBClassifier(use_label_encoder=False, eval_metric='logloss'), xgboost_params),\n",
        "               ('LightGBM', LGBMClassifier(), lightgbm_params)]\n",
        "\n",
        "classifiers = [('KNN', KNeighborsClassifier(), knn_params),\n",
        "               (\"CART\", DecisionTreeClassifier(), cart_params),\n",
        "               (\"RF\", RandomForestClassifier(), rf_params),\n",
        "               ('XGBoost', XGBClassifier(use_label_encoder=False, eval_metric='logloss'), xgboost_params),\n",
        "               ('LightGBM', LGBMClassifier(), lightgbm_params)]\n",
        "\n",
        "\n",
        "def base_models(X, y, scoring=\"roc_auc\"):\n",
        "    print(\"Base Models....\")\n",
        "    classifiers = [('LR', LogisticRegression()),\n",
        "                   ('KNN', KNeighborsClassifier()),\n",
        "                   (\"SVC\", SVC()),\n",
        "                   (\"CART\", DecisionTreeClassifier()),\n",
        "                   #(\"RF\", RandomForestClassifier()),\n",
        "                   ('Adaboost', AdaBoostClassifier()),\n",
        "                   ('GBM', GradientBoostingClassifier()),\n",
        "                   ('XGBoost', XGBClassifier(use_label_encoder=False, eval_metric='logloss')),\n",
        "                   ('LightGBM', LGBMClassifier()),\n",
        "                   # ('CatBoost', CatBoostClassifier(verbose=False))\n",
        "                   ]\n",
        "\n",
        "    for name, classifier in classifiers:\n",
        "        cv_results = cross_validate(classifier, X, y, cv=5, scoring=scoring)\n",
        "        print(f\"{scoring}: {round(cv_results['test_score'].mean(), 4)} ({name}) \")\n",
        "\n",
        "def random_hyperparameter_optimization(X, y, classifiers_r, cv=5, scoring=\"roc_auc\"):\n",
        "    print(\"Hyperparameter Optimization Random Scores....\")\n",
        "    k=0\n",
        "    for name, classifier, params in classifiers_r:\n",
        "        print(f\"########## {name} ##########\")\n",
        "        cv_results = cross_validate(classifier, X, y, cv=cv, scoring=scoring)\n",
        "        print(f\"{scoring} (Before): {round(cv_results['test_score'].mean(), 4)}\")\n",
        "\n",
        "        gs_best = RandomizedSearchCV(estimator=classifier,\n",
        "                               param_distributions=params,\n",
        "                               n_iter=240,  \n",
        "                               cv=5,\n",
        "                               verbose=False,\n",
        "                               n_jobs=-1).fit(X, y)\n",
        "        final_model = classifier.set_params(**gs_best.best_params_)\n",
        "        cv_results = cross_validate(final_model, X, y, cv=cv, scoring=scoring)\n",
        "        print(f\"{scoring} (After): {round(cv_results['test_score'].mean(), 4)}\")\n",
        "        print(f\"{name} best params: {gs_best.best_params_}\", end=\"\\n\\n\")\n",
        "        classifiers_r[k,2] = gs_best.best_params_\n",
        "        k+=1\n",
        "        print(f\"########## RANDOM ##########\")\n",
        "    return classifiers_r\n",
        "\n",
        "def hyperparameter_optimization(X, y, cv=5, scoring=\"roc_auc\"):\n",
        "    print(\"Hyperparameter Optimization....\")\n",
        "    best_models = {}\n",
        "    for name, classifier, params in classifiers:\n",
        "        print(f\"########## {name} ##########\")\n",
        "        cv_results = cross_validate(classifier, X, y, cv=cv, scoring=scoring)\n",
        "        print(f\"{scoring} (Before): {round(cv_results['test_score'].mean(), 4)}\")\n",
        "\n",
        "        gs_best = GridSearchCV(classifier, params, cv=cv, n_jobs=-1, verbose=False).fit(X, y)\n",
        "        final_model = classifier.set_params(**gs_best.best_params_)\n",
        "\n",
        "        cv_results = cross_validate(final_model, X, y, cv=cv, scoring=scoring)\n",
        "        print(f\"{scoring} (After): {round(cv_results['test_score'].mean(), 4)}\")\n",
        "        print(f\"{name} best params: {gs_best.best_params_}\", end=\"\\n\\n\")\n",
        "        best_models[name] = final_model\n",
        "    return best_models\n",
        "\n",
        "\n",
        "\n",
        "def voting_classifier(best_models, X, y, m1, m2, m3):\n",
        "    print(\"Voting Classifier...\")\n",
        "    voting_clf = VotingClassifier(estimators=[(m1, best_models[m1]), (m2, best_models[m2]),\n",
        "                                              (m3, best_models[m3])],\n",
        "                                  voting='soft').fit(X, y)\n",
        "    cv_results = cross_validate(voting_clf, X, y, cv=5, scoring=[\"accuracy\", \"f1\", \"roc_auc\"])\n",
        "    print(f\"Accuracy: {cv_results['test_accuracy'].mean()}\")\n",
        "    print(f\"F1Score: {cv_results['test_f1'].mean()}\")\n",
        "    print(f\"ROC_AUC: {cv_results['test_roc_auc'].mean()}\")\n",
        "    return voting_clf\n",
        "\n",
        "def plot_confusion_matrix(y, y_pred):\n",
        "    acc = round(accuracy_score(y, y_pred), 2)\n",
        "    cm = confusion_matrix(y, y_pred)\n",
        "    sns.heatmap(cm, annot=True, fmt=\".0f\")\n",
        "    plt.xlabel('y_pred')\n",
        "    plt.ylabel('y')\n",
        "    plt.title('Accuracy Score: {0}'.format(acc), size=10)\n",
        "    plt.show()"
      ]
    },
    {
      "cell_type": "markdown",
      "metadata": {
        "id": "zsMj-AYxc-ub"
      },
      "source": [
        "##Importing and Understanding the Data"
      ]
    },
    {
      "cell_type": "code",
      "execution_count": null,
      "metadata": {
        "id": "pG8oJqD_QkvZ"
      },
      "outputs": [],
      "source": [
        "df_train = pd.read_csv(\"train.csv\")\n",
        "\n",
        "df_test = pd.read_csv(\"test.csv\")\n",
        "Y = df_train[\"failure\"]"
      ]
    },
    {
      "cell_type": "code",
      "execution_count": null,
      "metadata": {
        "colab": {
          "base_uri": "https://localhost:8080/"
        },
        "id": "l1qFb6tm1hZt",
        "outputId": "1c01e4be-ae6e-4a4f-d54a-1d6e7e43fc3f"
      },
      "outputs": [
        {
          "output_type": "execute_result",
          "data": {
            "text/plain": [
              "   id product_code  loading attribute_0 attribute_1  attribute_2  attribute_3  measurement_0  measurement_1  measurement_2  measurement_3  measurement_4  measurement_5  measurement_6  measurement_7  measurement_8  measurement_9  measurement_10  measurement_11  measurement_12  measurement_13  measurement_14  measurement_15  measurement_16  measurement_17  failure\n",
              "0   0            A   80.100  material_7  material_8            9            5              7              8              4         18.040         12.518         15.748         19.292         11.739         20.155         10.672          15.859          17.594          15.193          15.029             NaN          13.034          14.684         764.100        0\n",
              "1   1            A   84.890  material_7  material_8            9            5             14              3              3         18.213         11.540         17.717         17.893         12.748         17.889         12.448          17.947          17.915          11.755          14.732          15.425          14.395          15.631         682.057        0\n",
              "2   2            A   82.430  material_7  material_8            9            5             12              1              5         18.057         11.652         16.738         18.240         12.718         18.288         12.715          15.607             NaN          13.798          16.711          18.631          14.094          17.946         663.376        0\n",
              "3   3            A  101.070  material_7  material_8            9            5             13              2              6         17.295         11.188         18.576         18.339         12.583         19.060         12.471          16.346          18.377          10.020          15.250          15.562          16.154          17.172         826.282        0\n",
              "4   4            A  188.060  material_7  material_8            9            5              9              2              8         19.346         12.950         16.990         15.746         11.306         18.093         10.337          17.082          19.932          12.428          16.182          12.760          13.153          16.412         579.885        0"
            ],
            "text/html": [
              "\n",
              "  <div id=\"df-8bba4ace-b38c-4afa-b02a-c45ef37bed2d\">\n",
              "    <div class=\"colab-df-container\">\n",
              "      <div>\n",
              "<style scoped>\n",
              "    .dataframe tbody tr th:only-of-type {\n",
              "        vertical-align: middle;\n",
              "    }\n",
              "\n",
              "    .dataframe tbody tr th {\n",
              "        vertical-align: top;\n",
              "    }\n",
              "\n",
              "    .dataframe thead th {\n",
              "        text-align: right;\n",
              "    }\n",
              "</style>\n",
              "<table border=\"1\" class=\"dataframe\">\n",
              "  <thead>\n",
              "    <tr style=\"text-align: right;\">\n",
              "      <th></th>\n",
              "      <th>id</th>\n",
              "      <th>product_code</th>\n",
              "      <th>loading</th>\n",
              "      <th>attribute_0</th>\n",
              "      <th>attribute_1</th>\n",
              "      <th>attribute_2</th>\n",
              "      <th>attribute_3</th>\n",
              "      <th>measurement_0</th>\n",
              "      <th>measurement_1</th>\n",
              "      <th>measurement_2</th>\n",
              "      <th>measurement_3</th>\n",
              "      <th>measurement_4</th>\n",
              "      <th>measurement_5</th>\n",
              "      <th>measurement_6</th>\n",
              "      <th>measurement_7</th>\n",
              "      <th>measurement_8</th>\n",
              "      <th>measurement_9</th>\n",
              "      <th>measurement_10</th>\n",
              "      <th>measurement_11</th>\n",
              "      <th>measurement_12</th>\n",
              "      <th>measurement_13</th>\n",
              "      <th>measurement_14</th>\n",
              "      <th>measurement_15</th>\n",
              "      <th>measurement_16</th>\n",
              "      <th>measurement_17</th>\n",
              "      <th>failure</th>\n",
              "    </tr>\n",
              "  </thead>\n",
              "  <tbody>\n",
              "    <tr>\n",
              "      <th>0</th>\n",
              "      <td>0</td>\n",
              "      <td>A</td>\n",
              "      <td>80.100</td>\n",
              "      <td>material_7</td>\n",
              "      <td>material_8</td>\n",
              "      <td>9</td>\n",
              "      <td>5</td>\n",
              "      <td>7</td>\n",
              "      <td>8</td>\n",
              "      <td>4</td>\n",
              "      <td>18.040</td>\n",
              "      <td>12.518</td>\n",
              "      <td>15.748</td>\n",
              "      <td>19.292</td>\n",
              "      <td>11.739</td>\n",
              "      <td>20.155</td>\n",
              "      <td>10.672</td>\n",
              "      <td>15.859</td>\n",
              "      <td>17.594</td>\n",
              "      <td>15.193</td>\n",
              "      <td>15.029</td>\n",
              "      <td>NaN</td>\n",
              "      <td>13.034</td>\n",
              "      <td>14.684</td>\n",
              "      <td>764.100</td>\n",
              "      <td>0</td>\n",
              "    </tr>\n",
              "    <tr>\n",
              "      <th>1</th>\n",
              "      <td>1</td>\n",
              "      <td>A</td>\n",
              "      <td>84.890</td>\n",
              "      <td>material_7</td>\n",
              "      <td>material_8</td>\n",
              "      <td>9</td>\n",
              "      <td>5</td>\n",
              "      <td>14</td>\n",
              "      <td>3</td>\n",
              "      <td>3</td>\n",
              "      <td>18.213</td>\n",
              "      <td>11.540</td>\n",
              "      <td>17.717</td>\n",
              "      <td>17.893</td>\n",
              "      <td>12.748</td>\n",
              "      <td>17.889</td>\n",
              "      <td>12.448</td>\n",
              "      <td>17.947</td>\n",
              "      <td>17.915</td>\n",
              "      <td>11.755</td>\n",
              "      <td>14.732</td>\n",
              "      <td>15.425</td>\n",
              "      <td>14.395</td>\n",
              "      <td>15.631</td>\n",
              "      <td>682.057</td>\n",
              "      <td>0</td>\n",
              "    </tr>\n",
              "    <tr>\n",
              "      <th>2</th>\n",
              "      <td>2</td>\n",
              "      <td>A</td>\n",
              "      <td>82.430</td>\n",
              "      <td>material_7</td>\n",
              "      <td>material_8</td>\n",
              "      <td>9</td>\n",
              "      <td>5</td>\n",
              "      <td>12</td>\n",
              "      <td>1</td>\n",
              "      <td>5</td>\n",
              "      <td>18.057</td>\n",
              "      <td>11.652</td>\n",
              "      <td>16.738</td>\n",
              "      <td>18.240</td>\n",
              "      <td>12.718</td>\n",
              "      <td>18.288</td>\n",
              "      <td>12.715</td>\n",
              "      <td>15.607</td>\n",
              "      <td>NaN</td>\n",
              "      <td>13.798</td>\n",
              "      <td>16.711</td>\n",
              "      <td>18.631</td>\n",
              "      <td>14.094</td>\n",
              "      <td>17.946</td>\n",
              "      <td>663.376</td>\n",
              "      <td>0</td>\n",
              "    </tr>\n",
              "    <tr>\n",
              "      <th>3</th>\n",
              "      <td>3</td>\n",
              "      <td>A</td>\n",
              "      <td>101.070</td>\n",
              "      <td>material_7</td>\n",
              "      <td>material_8</td>\n",
              "      <td>9</td>\n",
              "      <td>5</td>\n",
              "      <td>13</td>\n",
              "      <td>2</td>\n",
              "      <td>6</td>\n",
              "      <td>17.295</td>\n",
              "      <td>11.188</td>\n",
              "      <td>18.576</td>\n",
              "      <td>18.339</td>\n",
              "      <td>12.583</td>\n",
              "      <td>19.060</td>\n",
              "      <td>12.471</td>\n",
              "      <td>16.346</td>\n",
              "      <td>18.377</td>\n",
              "      <td>10.020</td>\n",
              "      <td>15.250</td>\n",
              "      <td>15.562</td>\n",
              "      <td>16.154</td>\n",
              "      <td>17.172</td>\n",
              "      <td>826.282</td>\n",
              "      <td>0</td>\n",
              "    </tr>\n",
              "    <tr>\n",
              "      <th>4</th>\n",
              "      <td>4</td>\n",
              "      <td>A</td>\n",
              "      <td>188.060</td>\n",
              "      <td>material_7</td>\n",
              "      <td>material_8</td>\n",
              "      <td>9</td>\n",
              "      <td>5</td>\n",
              "      <td>9</td>\n",
              "      <td>2</td>\n",
              "      <td>8</td>\n",
              "      <td>19.346</td>\n",
              "      <td>12.950</td>\n",
              "      <td>16.990</td>\n",
              "      <td>15.746</td>\n",
              "      <td>11.306</td>\n",
              "      <td>18.093</td>\n",
              "      <td>10.337</td>\n",
              "      <td>17.082</td>\n",
              "      <td>19.932</td>\n",
              "      <td>12.428</td>\n",
              "      <td>16.182</td>\n",
              "      <td>12.760</td>\n",
              "      <td>13.153</td>\n",
              "      <td>16.412</td>\n",
              "      <td>579.885</td>\n",
              "      <td>0</td>\n",
              "    </tr>\n",
              "  </tbody>\n",
              "</table>\n",
              "</div>\n",
              "      <button class=\"colab-df-convert\" onclick=\"convertToInteractive('df-8bba4ace-b38c-4afa-b02a-c45ef37bed2d')\"\n",
              "              title=\"Convert this dataframe to an interactive table.\"\n",
              "              style=\"display:none;\">\n",
              "        \n",
              "  <svg xmlns=\"http://www.w3.org/2000/svg\" height=\"24px\"viewBox=\"0 0 24 24\"\n",
              "       width=\"24px\">\n",
              "    <path d=\"M0 0h24v24H0V0z\" fill=\"none\"/>\n",
              "    <path d=\"M18.56 5.44l.94 2.06.94-2.06 2.06-.94-2.06-.94-.94-2.06-.94 2.06-2.06.94zm-11 1L8.5 8.5l.94-2.06 2.06-.94-2.06-.94L8.5 2.5l-.94 2.06-2.06.94zm10 10l.94 2.06.94-2.06 2.06-.94-2.06-.94-.94-2.06-.94 2.06-2.06.94z\"/><path d=\"M17.41 7.96l-1.37-1.37c-.4-.4-.92-.59-1.43-.59-.52 0-1.04.2-1.43.59L10.3 9.45l-7.72 7.72c-.78.78-.78 2.05 0 2.83L4 21.41c.39.39.9.59 1.41.59.51 0 1.02-.2 1.41-.59l7.78-7.78 2.81-2.81c.8-.78.8-2.07 0-2.86zM5.41 20L4 18.59l7.72-7.72 1.47 1.35L5.41 20z\"/>\n",
              "  </svg>\n",
              "      </button>\n",
              "      \n",
              "  <style>\n",
              "    .colab-df-container {\n",
              "      display:flex;\n",
              "      flex-wrap:wrap;\n",
              "      gap: 12px;\n",
              "    }\n",
              "\n",
              "    .colab-df-convert {\n",
              "      background-color: #E8F0FE;\n",
              "      border: none;\n",
              "      border-radius: 50%;\n",
              "      cursor: pointer;\n",
              "      display: none;\n",
              "      fill: #1967D2;\n",
              "      height: 32px;\n",
              "      padding: 0 0 0 0;\n",
              "      width: 32px;\n",
              "    }\n",
              "\n",
              "    .colab-df-convert:hover {\n",
              "      background-color: #E2EBFA;\n",
              "      box-shadow: 0px 1px 2px rgba(60, 64, 67, 0.3), 0px 1px 3px 1px rgba(60, 64, 67, 0.15);\n",
              "      fill: #174EA6;\n",
              "    }\n",
              "\n",
              "    [theme=dark] .colab-df-convert {\n",
              "      background-color: #3B4455;\n",
              "      fill: #D2E3FC;\n",
              "    }\n",
              "\n",
              "    [theme=dark] .colab-df-convert:hover {\n",
              "      background-color: #434B5C;\n",
              "      box-shadow: 0px 1px 3px 1px rgba(0, 0, 0, 0.15);\n",
              "      filter: drop-shadow(0px 1px 2px rgba(0, 0, 0, 0.3));\n",
              "      fill: #FFFFFF;\n",
              "    }\n",
              "  </style>\n",
              "\n",
              "      <script>\n",
              "        const buttonEl =\n",
              "          document.querySelector('#df-8bba4ace-b38c-4afa-b02a-c45ef37bed2d button.colab-df-convert');\n",
              "        buttonEl.style.display =\n",
              "          google.colab.kernel.accessAllowed ? 'block' : 'none';\n",
              "\n",
              "        async function convertToInteractive(key) {\n",
              "          const element = document.querySelector('#df-8bba4ace-b38c-4afa-b02a-c45ef37bed2d');\n",
              "          const dataTable =\n",
              "            await google.colab.kernel.invokeFunction('convertToInteractive',\n",
              "                                                     [key], {});\n",
              "          if (!dataTable) return;\n",
              "\n",
              "          const docLinkHtml = 'Like what you see? Visit the ' +\n",
              "            '<a target=\"_blank\" href=https://colab.research.google.com/notebooks/data_table.ipynb>data table notebook</a>'\n",
              "            + ' to learn more about interactive tables.';\n",
              "          element.innerHTML = '';\n",
              "          dataTable['output_type'] = 'display_data';\n",
              "          await google.colab.output.renderOutput(dataTable, element);\n",
              "          const docLink = document.createElement('div');\n",
              "          docLink.innerHTML = docLinkHtml;\n",
              "          element.appendChild(docLink);\n",
              "        }\n",
              "      </script>\n",
              "    </div>\n",
              "  </div>\n",
              "  "
            ]
          },
          "metadata": {},
          "execution_count": 28
        }
      ],
      "source": [
        "df_train.head()"
      ]
    },
    {
      "cell_type": "code",
      "execution_count": null,
      "metadata": {
        "colab": {
          "base_uri": "https://localhost:8080/"
        },
        "id": "BGX5NSaX2zjb",
        "outputId": "b1740e45-3b7e-4ecb-a7a2-abc2b68c3fdd"
      },
      "outputs": [
        {
          "output_type": "execute_result",
          "data": {
            "text/plain": [
              "(26570, 26)"
            ]
          },
          "metadata": {},
          "execution_count": 29
        }
      ],
      "source": [
        "df_train.shape"
      ]
    },
    {
      "cell_type": "code",
      "execution_count": null,
      "metadata": {
        "colab": {
          "base_uri": "https://localhost:8080/"
        },
        "id": "R6QZaXoNUFH1",
        "outputId": "188c789f-b517-4518-a534-fe88f8a34a33"
      },
      "outputs": [
        {
          "output_type": "execute_result",
          "data": {
            "text/plain": [
              "      id product_code  loading attribute_0 attribute_1  attribute_2  attribute_3  measurement_0  measurement_1  measurement_2  measurement_3  measurement_4  measurement_5  measurement_6  measurement_7  measurement_8  measurement_9  measurement_10  measurement_11  measurement_12  measurement_13  measurement_14  measurement_15  measurement_16  measurement_17\n",
              "0  26570            F  119.570  material_5  material_6            6            4              6              9              6         19.305         10.178         17.534         18.168         11.598         18.654         10.802          15.909          18.070          13.772          13.659          16.825          13.742          17.710         634.612\n",
              "1  26571            F  113.510  material_5  material_6            6            4             11              8              0         17.883         11.927         17.228         16.033         11.179         19.368         12.032          13.998             NaN          12.473          17.468          16.708          14.776          14.102         537.037\n",
              "2  26572            F  112.160  material_5  material_6            6            4              8             12              4         18.475         10.481         16.619         18.189         12.126         17.774         11.743          17.046          18.086          10.907          13.363          15.737          17.065          16.021         658.995\n",
              "3  26573            F  112.720  material_5  material_6            6            4              8             11             10         16.518         10.888         15.293         18.592         11.304         18.948         11.790          18.165          16.163          10.933          15.501          15.667          12.620          16.111         594.301\n",
              "4  26574            F  208.000  material_5  material_6            6            4             14             16              8         17.808         12.693         17.678         15.814         13.431         19.141         12.370          14.578          17.849          11.941          16.070          16.183          13.324          17.150         801.044"
            ],
            "text/html": [
              "\n",
              "  <div id=\"df-37ad265f-9077-4673-bb08-b41aef874afb\">\n",
              "    <div class=\"colab-df-container\">\n",
              "      <div>\n",
              "<style scoped>\n",
              "    .dataframe tbody tr th:only-of-type {\n",
              "        vertical-align: middle;\n",
              "    }\n",
              "\n",
              "    .dataframe tbody tr th {\n",
              "        vertical-align: top;\n",
              "    }\n",
              "\n",
              "    .dataframe thead th {\n",
              "        text-align: right;\n",
              "    }\n",
              "</style>\n",
              "<table border=\"1\" class=\"dataframe\">\n",
              "  <thead>\n",
              "    <tr style=\"text-align: right;\">\n",
              "      <th></th>\n",
              "      <th>id</th>\n",
              "      <th>product_code</th>\n",
              "      <th>loading</th>\n",
              "      <th>attribute_0</th>\n",
              "      <th>attribute_1</th>\n",
              "      <th>attribute_2</th>\n",
              "      <th>attribute_3</th>\n",
              "      <th>measurement_0</th>\n",
              "      <th>measurement_1</th>\n",
              "      <th>measurement_2</th>\n",
              "      <th>measurement_3</th>\n",
              "      <th>measurement_4</th>\n",
              "      <th>measurement_5</th>\n",
              "      <th>measurement_6</th>\n",
              "      <th>measurement_7</th>\n",
              "      <th>measurement_8</th>\n",
              "      <th>measurement_9</th>\n",
              "      <th>measurement_10</th>\n",
              "      <th>measurement_11</th>\n",
              "      <th>measurement_12</th>\n",
              "      <th>measurement_13</th>\n",
              "      <th>measurement_14</th>\n",
              "      <th>measurement_15</th>\n",
              "      <th>measurement_16</th>\n",
              "      <th>measurement_17</th>\n",
              "    </tr>\n",
              "  </thead>\n",
              "  <tbody>\n",
              "    <tr>\n",
              "      <th>0</th>\n",
              "      <td>26570</td>\n",
              "      <td>F</td>\n",
              "      <td>119.570</td>\n",
              "      <td>material_5</td>\n",
              "      <td>material_6</td>\n",
              "      <td>6</td>\n",
              "      <td>4</td>\n",
              "      <td>6</td>\n",
              "      <td>9</td>\n",
              "      <td>6</td>\n",
              "      <td>19.305</td>\n",
              "      <td>10.178</td>\n",
              "      <td>17.534</td>\n",
              "      <td>18.168</td>\n",
              "      <td>11.598</td>\n",
              "      <td>18.654</td>\n",
              "      <td>10.802</td>\n",
              "      <td>15.909</td>\n",
              "      <td>18.070</td>\n",
              "      <td>13.772</td>\n",
              "      <td>13.659</td>\n",
              "      <td>16.825</td>\n",
              "      <td>13.742</td>\n",
              "      <td>17.710</td>\n",
              "      <td>634.612</td>\n",
              "    </tr>\n",
              "    <tr>\n",
              "      <th>1</th>\n",
              "      <td>26571</td>\n",
              "      <td>F</td>\n",
              "      <td>113.510</td>\n",
              "      <td>material_5</td>\n",
              "      <td>material_6</td>\n",
              "      <td>6</td>\n",
              "      <td>4</td>\n",
              "      <td>11</td>\n",
              "      <td>8</td>\n",
              "      <td>0</td>\n",
              "      <td>17.883</td>\n",
              "      <td>11.927</td>\n",
              "      <td>17.228</td>\n",
              "      <td>16.033</td>\n",
              "      <td>11.179</td>\n",
              "      <td>19.368</td>\n",
              "      <td>12.032</td>\n",
              "      <td>13.998</td>\n",
              "      <td>NaN</td>\n",
              "      <td>12.473</td>\n",
              "      <td>17.468</td>\n",
              "      <td>16.708</td>\n",
              "      <td>14.776</td>\n",
              "      <td>14.102</td>\n",
              "      <td>537.037</td>\n",
              "    </tr>\n",
              "    <tr>\n",
              "      <th>2</th>\n",
              "      <td>26572</td>\n",
              "      <td>F</td>\n",
              "      <td>112.160</td>\n",
              "      <td>material_5</td>\n",
              "      <td>material_6</td>\n",
              "      <td>6</td>\n",
              "      <td>4</td>\n",
              "      <td>8</td>\n",
              "      <td>12</td>\n",
              "      <td>4</td>\n",
              "      <td>18.475</td>\n",
              "      <td>10.481</td>\n",
              "      <td>16.619</td>\n",
              "      <td>18.189</td>\n",
              "      <td>12.126</td>\n",
              "      <td>17.774</td>\n",
              "      <td>11.743</td>\n",
              "      <td>17.046</td>\n",
              "      <td>18.086</td>\n",
              "      <td>10.907</td>\n",
              "      <td>13.363</td>\n",
              "      <td>15.737</td>\n",
              "      <td>17.065</td>\n",
              "      <td>16.021</td>\n",
              "      <td>658.995</td>\n",
              "    </tr>\n",
              "    <tr>\n",
              "      <th>3</th>\n",
              "      <td>26573</td>\n",
              "      <td>F</td>\n",
              "      <td>112.720</td>\n",
              "      <td>material_5</td>\n",
              "      <td>material_6</td>\n",
              "      <td>6</td>\n",
              "      <td>4</td>\n",
              "      <td>8</td>\n",
              "      <td>11</td>\n",
              "      <td>10</td>\n",
              "      <td>16.518</td>\n",
              "      <td>10.888</td>\n",
              "      <td>15.293</td>\n",
              "      <td>18.592</td>\n",
              "      <td>11.304</td>\n",
              "      <td>18.948</td>\n",
              "      <td>11.790</td>\n",
              "      <td>18.165</td>\n",
              "      <td>16.163</td>\n",
              "      <td>10.933</td>\n",
              "      <td>15.501</td>\n",
              "      <td>15.667</td>\n",
              "      <td>12.620</td>\n",
              "      <td>16.111</td>\n",
              "      <td>594.301</td>\n",
              "    </tr>\n",
              "    <tr>\n",
              "      <th>4</th>\n",
              "      <td>26574</td>\n",
              "      <td>F</td>\n",
              "      <td>208.000</td>\n",
              "      <td>material_5</td>\n",
              "      <td>material_6</td>\n",
              "      <td>6</td>\n",
              "      <td>4</td>\n",
              "      <td>14</td>\n",
              "      <td>16</td>\n",
              "      <td>8</td>\n",
              "      <td>17.808</td>\n",
              "      <td>12.693</td>\n",
              "      <td>17.678</td>\n",
              "      <td>15.814</td>\n",
              "      <td>13.431</td>\n",
              "      <td>19.141</td>\n",
              "      <td>12.370</td>\n",
              "      <td>14.578</td>\n",
              "      <td>17.849</td>\n",
              "      <td>11.941</td>\n",
              "      <td>16.070</td>\n",
              "      <td>16.183</td>\n",
              "      <td>13.324</td>\n",
              "      <td>17.150</td>\n",
              "      <td>801.044</td>\n",
              "    </tr>\n",
              "  </tbody>\n",
              "</table>\n",
              "</div>\n",
              "      <button class=\"colab-df-convert\" onclick=\"convertToInteractive('df-37ad265f-9077-4673-bb08-b41aef874afb')\"\n",
              "              title=\"Convert this dataframe to an interactive table.\"\n",
              "              style=\"display:none;\">\n",
              "        \n",
              "  <svg xmlns=\"http://www.w3.org/2000/svg\" height=\"24px\"viewBox=\"0 0 24 24\"\n",
              "       width=\"24px\">\n",
              "    <path d=\"M0 0h24v24H0V0z\" fill=\"none\"/>\n",
              "    <path d=\"M18.56 5.44l.94 2.06.94-2.06 2.06-.94-2.06-.94-.94-2.06-.94 2.06-2.06.94zm-11 1L8.5 8.5l.94-2.06 2.06-.94-2.06-.94L8.5 2.5l-.94 2.06-2.06.94zm10 10l.94 2.06.94-2.06 2.06-.94-2.06-.94-.94-2.06-.94 2.06-2.06.94z\"/><path d=\"M17.41 7.96l-1.37-1.37c-.4-.4-.92-.59-1.43-.59-.52 0-1.04.2-1.43.59L10.3 9.45l-7.72 7.72c-.78.78-.78 2.05 0 2.83L4 21.41c.39.39.9.59 1.41.59.51 0 1.02-.2 1.41-.59l7.78-7.78 2.81-2.81c.8-.78.8-2.07 0-2.86zM5.41 20L4 18.59l7.72-7.72 1.47 1.35L5.41 20z\"/>\n",
              "  </svg>\n",
              "      </button>\n",
              "      \n",
              "  <style>\n",
              "    .colab-df-container {\n",
              "      display:flex;\n",
              "      flex-wrap:wrap;\n",
              "      gap: 12px;\n",
              "    }\n",
              "\n",
              "    .colab-df-convert {\n",
              "      background-color: #E8F0FE;\n",
              "      border: none;\n",
              "      border-radius: 50%;\n",
              "      cursor: pointer;\n",
              "      display: none;\n",
              "      fill: #1967D2;\n",
              "      height: 32px;\n",
              "      padding: 0 0 0 0;\n",
              "      width: 32px;\n",
              "    }\n",
              "\n",
              "    .colab-df-convert:hover {\n",
              "      background-color: #E2EBFA;\n",
              "      box-shadow: 0px 1px 2px rgba(60, 64, 67, 0.3), 0px 1px 3px 1px rgba(60, 64, 67, 0.15);\n",
              "      fill: #174EA6;\n",
              "    }\n",
              "\n",
              "    [theme=dark] .colab-df-convert {\n",
              "      background-color: #3B4455;\n",
              "      fill: #D2E3FC;\n",
              "    }\n",
              "\n",
              "    [theme=dark] .colab-df-convert:hover {\n",
              "      background-color: #434B5C;\n",
              "      box-shadow: 0px 1px 3px 1px rgba(0, 0, 0, 0.15);\n",
              "      filter: drop-shadow(0px 1px 2px rgba(0, 0, 0, 0.3));\n",
              "      fill: #FFFFFF;\n",
              "    }\n",
              "  </style>\n",
              "\n",
              "      <script>\n",
              "        const buttonEl =\n",
              "          document.querySelector('#df-37ad265f-9077-4673-bb08-b41aef874afb button.colab-df-convert');\n",
              "        buttonEl.style.display =\n",
              "          google.colab.kernel.accessAllowed ? 'block' : 'none';\n",
              "\n",
              "        async function convertToInteractive(key) {\n",
              "          const element = document.querySelector('#df-37ad265f-9077-4673-bb08-b41aef874afb');\n",
              "          const dataTable =\n",
              "            await google.colab.kernel.invokeFunction('convertToInteractive',\n",
              "                                                     [key], {});\n",
              "          if (!dataTable) return;\n",
              "\n",
              "          const docLinkHtml = 'Like what you see? Visit the ' +\n",
              "            '<a target=\"_blank\" href=https://colab.research.google.com/notebooks/data_table.ipynb>data table notebook</a>'\n",
              "            + ' to learn more about interactive tables.';\n",
              "          element.innerHTML = '';\n",
              "          dataTable['output_type'] = 'display_data';\n",
              "          await google.colab.output.renderOutput(dataTable, element);\n",
              "          const docLink = document.createElement('div');\n",
              "          docLink.innerHTML = docLinkHtml;\n",
              "          element.appendChild(docLink);\n",
              "        }\n",
              "      </script>\n",
              "    </div>\n",
              "  </div>\n",
              "  "
            ]
          },
          "metadata": {},
          "execution_count": 30
        }
      ],
      "source": [
        "df_test.head()"
      ]
    },
    {
      "cell_type": "code",
      "execution_count": null,
      "metadata": {
        "colab": {
          "base_uri": "https://localhost:8080/"
        },
        "id": "o9ME3ujIUGlp",
        "outputId": "7ac5f6b4-aa2f-4b5c-b674-2d25e2f796e4"
      },
      "outputs": [
        {
          "output_type": "execute_result",
          "data": {
            "text/plain": [
              "(20775, 25)"
            ]
          },
          "metadata": {},
          "execution_count": 31
        }
      ],
      "source": [
        "df_test.shape"
      ]
    },
    {
      "cell_type": "code",
      "execution_count": null,
      "metadata": {
        "colab": {
          "base_uri": "https://localhost:8080/"
        },
        "id": "qUrNw15sLhO0",
        "outputId": "5e7dbb28-995b-4ead-8d60-4c6b03f7a80f"
      },
      "outputs": [
        {
          "output_type": "execute_result",
          "data": {
            "text/plain": [
              "0    20921\n",
              "1     5649\n",
              "Name: failure, dtype: int64"
            ]
          },
          "metadata": {},
          "execution_count": 32
        }
      ],
      "source": [
        "df_train[\"failure\"].value_counts()"
      ]
    },
    {
      "cell_type": "markdown",
      "metadata": {
        "id": "c1n-U-ocHQco"
      },
      "source": [
        "Train dataset is unbalanced"
      ]
    },
    {
      "cell_type": "markdown",
      "metadata": {
        "id": "TyImb4UjYPGm"
      },
      "source": [
        "##Checking For Outliers and wrong data inputs"
      ]
    },
    {
      "cell_type": "code",
      "execution_count": null,
      "metadata": {
        "colab": {
          "base_uri": "https://localhost:8080/"
        },
        "id": "lf4trCdlY4hX",
        "outputId": "79736d93-fdc7-4a09-d5a5-12566c1b8707"
      },
      "outputs": [
        {
          "output_type": "stream",
          "name": "stdout",
          "text": [
            "Observations: 26570\n",
            "Variables: 26\n",
            "cat_cols: 6\n",
            "num_cols: 20\n",
            "cat_but_car: 0\n",
            "num_but_cat: 3\n"
          ]
        }
      ],
      "source": [
        "cat_cols, num_cols, car_cols = col_types(df_train)"
      ]
    },
    {
      "cell_type": "markdown",
      "metadata": {
        "id": "Jv6q324tLl2j"
      },
      "source": [
        "outlier_rows is a local function that shows outliers according to interquartile range"
      ]
    },
    {
      "cell_type": "code",
      "execution_count": null,
      "metadata": {
        "colab": {
          "base_uri": "https://localhost:8080/"
        },
        "id": "xHqXMpphYOIb",
        "outputId": "361a68b8-e929-4ec2-c9b8-af4b0ee04ddf"
      },
      "outputs": [
        {
          "output_type": "stream",
          "name": "stdout",
          "text": [
            "Outlier Rows For Column id\n",
            "Empty DataFrame\n",
            "Columns: [id, product_code, loading, attribute_0, attribute_1, attribute_2, attribute_3, measurement_0, measurement_1, measurement_2, measurement_3, measurement_4, measurement_5, measurement_6, measurement_7, measurement_8, measurement_9, measurement_10, measurement_11, measurement_12, measurement_13, measurement_14, measurement_15, measurement_16, measurement_17, failure]\n",
            "Index: []\n",
            "-------------------------------------------------------------------------\n",
            "\n",
            "Outlier Rows For Column loading\n",
            "Empty DataFrame\n",
            "Columns: [id, product_code, loading, attribute_0, attribute_1, attribute_2, attribute_3, measurement_0, measurement_1, measurement_2, measurement_3, measurement_4, measurement_5, measurement_6, measurement_7, measurement_8, measurement_9, measurement_10, measurement_11, measurement_12, measurement_13, measurement_14, measurement_15, measurement_16, measurement_17, failure]\n",
            "Index: []\n",
            "-------------------------------------------------------------------------\n",
            "\n",
            "Outlier Rows For Column measurement_0\n",
            "Empty DataFrame\n",
            "Columns: [id, product_code, loading, attribute_0, attribute_1, attribute_2, attribute_3, measurement_0, measurement_1, measurement_2, measurement_3, measurement_4, measurement_5, measurement_6, measurement_7, measurement_8, measurement_9, measurement_10, measurement_11, measurement_12, measurement_13, measurement_14, measurement_15, measurement_16, measurement_17, failure]\n",
            "Index: []\n",
            "-------------------------------------------------------------------------\n",
            "\n",
            "Outlier Rows For Column measurement_1\n",
            "Empty DataFrame\n",
            "Columns: [id, product_code, loading, attribute_0, attribute_1, attribute_2, attribute_3, measurement_0, measurement_1, measurement_2, measurement_3, measurement_4, measurement_5, measurement_6, measurement_7, measurement_8, measurement_9, measurement_10, measurement_11, measurement_12, measurement_13, measurement_14, measurement_15, measurement_16, measurement_17, failure]\n",
            "Index: []\n",
            "-------------------------------------------------------------------------\n",
            "\n",
            "Outlier Rows For Column measurement_2\n",
            "Empty DataFrame\n",
            "Columns: [id, product_code, loading, attribute_0, attribute_1, attribute_2, attribute_3, measurement_0, measurement_1, measurement_2, measurement_3, measurement_4, measurement_5, measurement_6, measurement_7, measurement_8, measurement_9, measurement_10, measurement_11, measurement_12, measurement_13, measurement_14, measurement_15, measurement_16, measurement_17, failure]\n",
            "Index: []\n",
            "-------------------------------------------------------------------------\n",
            "\n",
            "Outlier Rows For Column measurement_3\n",
            "Empty DataFrame\n",
            "Columns: [id, product_code, loading, attribute_0, attribute_1, attribute_2, attribute_3, measurement_0, measurement_1, measurement_2, measurement_3, measurement_4, measurement_5, measurement_6, measurement_7, measurement_8, measurement_9, measurement_10, measurement_11, measurement_12, measurement_13, measurement_14, measurement_15, measurement_16, measurement_17, failure]\n",
            "Index: []\n",
            "-------------------------------------------------------------------------\n",
            "\n",
            "Outlier Rows For Column measurement_4\n",
            "Empty DataFrame\n",
            "Columns: [id, product_code, loading, attribute_0, attribute_1, attribute_2, attribute_3, measurement_0, measurement_1, measurement_2, measurement_3, measurement_4, measurement_5, measurement_6, measurement_7, measurement_8, measurement_9, measurement_10, measurement_11, measurement_12, measurement_13, measurement_14, measurement_15, measurement_16, measurement_17, failure]\n",
            "Index: []\n",
            "-------------------------------------------------------------------------\n",
            "\n",
            "Outlier Rows For Column measurement_5\n",
            "Empty DataFrame\n",
            "Columns: [id, product_code, loading, attribute_0, attribute_1, attribute_2, attribute_3, measurement_0, measurement_1, measurement_2, measurement_3, measurement_4, measurement_5, measurement_6, measurement_7, measurement_8, measurement_9, measurement_10, measurement_11, measurement_12, measurement_13, measurement_14, measurement_15, measurement_16, measurement_17, failure]\n",
            "Index: []\n",
            "-------------------------------------------------------------------------\n",
            "\n",
            "Outlier Rows For Column measurement_6\n",
            "Empty DataFrame\n",
            "Columns: [id, product_code, loading, attribute_0, attribute_1, attribute_2, attribute_3, measurement_0, measurement_1, measurement_2, measurement_3, measurement_4, measurement_5, measurement_6, measurement_7, measurement_8, measurement_9, measurement_10, measurement_11, measurement_12, measurement_13, measurement_14, measurement_15, measurement_16, measurement_17, failure]\n",
            "Index: []\n",
            "-------------------------------------------------------------------------\n",
            "\n",
            "Outlier Rows For Column measurement_7\n",
            "Empty DataFrame\n",
            "Columns: [id, product_code, loading, attribute_0, attribute_1, attribute_2, attribute_3, measurement_0, measurement_1, measurement_2, measurement_3, measurement_4, measurement_5, measurement_6, measurement_7, measurement_8, measurement_9, measurement_10, measurement_11, measurement_12, measurement_13, measurement_14, measurement_15, measurement_16, measurement_17, failure]\n",
            "Index: []\n",
            "-------------------------------------------------------------------------\n",
            "\n",
            "Outlier Rows For Column measurement_8\n",
            "Empty DataFrame\n",
            "Columns: [id, product_code, loading, attribute_0, attribute_1, attribute_2, attribute_3, measurement_0, measurement_1, measurement_2, measurement_3, measurement_4, measurement_5, measurement_6, measurement_7, measurement_8, measurement_9, measurement_10, measurement_11, measurement_12, measurement_13, measurement_14, measurement_15, measurement_16, measurement_17, failure]\n",
            "Index: []\n",
            "-------------------------------------------------------------------------\n",
            "\n",
            "Outlier Rows For Column measurement_9\n",
            "Empty DataFrame\n",
            "Columns: [id, product_code, loading, attribute_0, attribute_1, attribute_2, attribute_3, measurement_0, measurement_1, measurement_2, measurement_3, measurement_4, measurement_5, measurement_6, measurement_7, measurement_8, measurement_9, measurement_10, measurement_11, measurement_12, measurement_13, measurement_14, measurement_15, measurement_16, measurement_17, failure]\n",
            "Index: []\n",
            "-------------------------------------------------------------------------\n",
            "\n",
            "Outlier Rows For Column measurement_10\n",
            "Empty DataFrame\n",
            "Columns: [id, product_code, loading, attribute_0, attribute_1, attribute_2, attribute_3, measurement_0, measurement_1, measurement_2, measurement_3, measurement_4, measurement_5, measurement_6, measurement_7, measurement_8, measurement_9, measurement_10, measurement_11, measurement_12, measurement_13, measurement_14, measurement_15, measurement_16, measurement_17, failure]\n",
            "Index: []\n",
            "-------------------------------------------------------------------------\n",
            "\n",
            "Outlier Rows For Column measurement_11\n",
            "Empty DataFrame\n",
            "Columns: [id, product_code, loading, attribute_0, attribute_1, attribute_2, attribute_3, measurement_0, measurement_1, measurement_2, measurement_3, measurement_4, measurement_5, measurement_6, measurement_7, measurement_8, measurement_9, measurement_10, measurement_11, measurement_12, measurement_13, measurement_14, measurement_15, measurement_16, measurement_17, failure]\n",
            "Index: []\n",
            "-------------------------------------------------------------------------\n",
            "\n",
            "Outlier Rows For Column measurement_12\n",
            "Empty DataFrame\n",
            "Columns: [id, product_code, loading, attribute_0, attribute_1, attribute_2, attribute_3, measurement_0, measurement_1, measurement_2, measurement_3, measurement_4, measurement_5, measurement_6, measurement_7, measurement_8, measurement_9, measurement_10, measurement_11, measurement_12, measurement_13, measurement_14, measurement_15, measurement_16, measurement_17, failure]\n",
            "Index: []\n",
            "-------------------------------------------------------------------------\n",
            "\n",
            "Outlier Rows For Column measurement_13\n",
            "Empty DataFrame\n",
            "Columns: [id, product_code, loading, attribute_0, attribute_1, attribute_2, attribute_3, measurement_0, measurement_1, measurement_2, measurement_3, measurement_4, measurement_5, measurement_6, measurement_7, measurement_8, measurement_9, measurement_10, measurement_11, measurement_12, measurement_13, measurement_14, measurement_15, measurement_16, measurement_17, failure]\n",
            "Index: []\n",
            "-------------------------------------------------------------------------\n",
            "\n",
            "Outlier Rows For Column measurement_14\n",
            "Empty DataFrame\n",
            "Columns: [id, product_code, loading, attribute_0, attribute_1, attribute_2, attribute_3, measurement_0, measurement_1, measurement_2, measurement_3, measurement_4, measurement_5, measurement_6, measurement_7, measurement_8, measurement_9, measurement_10, measurement_11, measurement_12, measurement_13, measurement_14, measurement_15, measurement_16, measurement_17, failure]\n",
            "Index: []\n",
            "-------------------------------------------------------------------------\n",
            "\n",
            "Outlier Rows For Column measurement_15\n",
            "Empty DataFrame\n",
            "Columns: [id, product_code, loading, attribute_0, attribute_1, attribute_2, attribute_3, measurement_0, measurement_1, measurement_2, measurement_3, measurement_4, measurement_5, measurement_6, measurement_7, measurement_8, measurement_9, measurement_10, measurement_11, measurement_12, measurement_13, measurement_14, measurement_15, measurement_16, measurement_17, failure]\n",
            "Index: []\n",
            "-------------------------------------------------------------------------\n",
            "\n",
            "Outlier Rows For Column measurement_16\n",
            "Empty DataFrame\n",
            "Columns: [id, product_code, loading, attribute_0, attribute_1, attribute_2, attribute_3, measurement_0, measurement_1, measurement_2, measurement_3, measurement_4, measurement_5, measurement_6, measurement_7, measurement_8, measurement_9, measurement_10, measurement_11, measurement_12, measurement_13, measurement_14, measurement_15, measurement_16, measurement_17, failure]\n",
            "Index: []\n",
            "-------------------------------------------------------------------------\n",
            "\n",
            "Outlier Rows For Column measurement_17\n",
            "Empty DataFrame\n",
            "Columns: [id, product_code, loading, attribute_0, attribute_1, attribute_2, attribute_3, measurement_0, measurement_1, measurement_2, measurement_3, measurement_4, measurement_5, measurement_6, measurement_7, measurement_8, measurement_9, measurement_10, measurement_11, measurement_12, measurement_13, measurement_14, measurement_15, measurement_16, measurement_17, failure]\n",
            "Index: []\n",
            "-------------------------------------------------------------------------\n",
            "\n"
          ]
        }
      ],
      "source": [
        "for col in num_cols:\n",
        "    outlier_r = outlier_rows(df_train,col,index=True,q1 = 0.05, q2 = 0.95,prnt=False)\n",
        "    print(\"Outlier Rows For Column {}\".format(col))\n",
        "    print(df_train.iloc[outlier_r].sort_values(by=col,ascending=False).head())\n",
        "    print(\"-------------------------------------------------------------------------\\n\")"
      ]
    },
    {
      "cell_type": "markdown",
      "metadata": {
        "id": "QqD4b_EXLeAz"
      },
      "source": [
        "missing_col is local function that show missing row numbers in columns"
      ]
    },
    {
      "cell_type": "code",
      "execution_count": null,
      "metadata": {
        "colab": {
          "base_uri": "https://localhost:8080/"
        },
        "id": "zk10SUZa4WpF",
        "outputId": "f8f2a3c2-7e7c-406d-dbbe-4a4605126d62"
      },
      "outputs": [
        {
          "output_type": "stream",
          "name": "stdout",
          "text": [
            "                n_miss  ratio\n",
            "measurement_17    2284  8.600\n",
            "measurement_16    2110  7.940\n",
            "measurement_15    2009  7.560\n",
            "measurement_14    1874  7.050\n",
            "measurement_13    1774  6.680\n",
            "measurement_12    1601  6.030\n",
            "measurement_11    1468  5.530\n",
            "measurement_10    1300  4.890\n",
            "measurement_9     1227  4.620\n",
            "measurement_8     1048  3.940\n",
            "measurement_7      937  3.530\n",
            "measurement_6      796  3.000\n",
            "measurement_5      676  2.540\n",
            "measurement_4      538  2.020\n",
            "measurement_3      381  1.430\n",
            "loading            250  0.940\n"
          ]
        }
      ],
      "source": [
        "missing_col(df_train)"
      ]
    },
    {
      "cell_type": "code",
      "execution_count": null,
      "metadata": {
        "colab": {
          "base_uri": "https://localhost:8080/"
        },
        "id": "3WpfYq8dTeHk",
        "outputId": "4323ad1e-89d2-404b-a0bb-02137616220c"
      },
      "outputs": [
        {
          "output_type": "stream",
          "name": "stdout",
          "text": [
            "                n_miss  ratio\n",
            "measurement_17    1740  8.380\n",
            "measurement_16    1678  8.080\n",
            "measurement_15    1542  7.420\n",
            "measurement_14    1440  6.930\n",
            "measurement_13    1303  6.270\n",
            "measurement_12    1240  5.970\n",
            "measurement_11    1136  5.470\n",
            "measurement_10    1067  5.140\n",
            "measurement_9      904  4.350\n",
            "measurement_8      846  4.070\n",
            "measurement_7      720  3.470\n",
            "measurement_6      624  3.000\n",
            "measurement_5      508  2.450\n",
            "measurement_4      409  1.970\n",
            "measurement_3      329  1.580\n",
            "loading            223  1.070\n"
          ]
        }
      ],
      "source": [
        "missing_col(df_test)"
      ]
    },
    {
      "cell_type": "markdown",
      "metadata": {
        "id": "2eFfomEb4E2a"
      },
      "source": [
        "There is no outlier but missing data is quite large and we cannot remove them because there will be enormous data loss"
      ]
    },
    {
      "cell_type": "markdown",
      "metadata": {
        "id": "Ks1kyWfQIcRw"
      },
      "source": [
        "##Correlations and distrubutions"
      ]
    },
    {
      "cell_type": "code",
      "execution_count": null,
      "metadata": {
        "colab": {
          "base_uri": "https://localhost:8080/"
        },
        "id": "NxNs04wWY3lV",
        "outputId": "28c720b0-1b4d-4af6-ac1c-01f664eb4d02"
      },
      "outputs": [
        {
          "output_type": "display_data",
          "data": {
            "text/plain": [
              "<Figure size 720x576 with 2 Axes>"
            ],
            "image/png": "[encoded data removed]"
          },
          "metadata": {
            "needs_background": "light"
          }
        }
      ],
      "source": [
        "correlation_matrix(df_train,df_train.columns)"
      ]
    },
    {
      "cell_type": "markdown",
      "metadata": {
        "id": "PicFj4PGLGIs"
      },
      "source": [
        "There is a negative correlation between attribute_2 and id but because we do not know the definitions of the features we cannot remove any column"
      ]
    },
    {
      "cell_type": "markdown",
      "metadata": {
        "id": "4g8hHbcNVw8o"
      },
      "source": [
        "## Encoding and handling the missing data"
      ]
    },
    {
      "cell_type": "markdown",
      "metadata": {
        "id": "XsubynWKS4Ph"
      },
      "source": [
        "Drop the target, id and product code columns"
      ]
    },
    {
      "cell_type": "code",
      "execution_count": null,
      "metadata": {
        "id": "O6ZFs83OMCQ-"
      },
      "outputs": [],
      "source": [
        "df_train = df_train.drop([\"failure\"],axis=1)\n",
        "df_train = df_train.drop([\"product_code\"],axis=1)\n",
        "df_train = df_train.drop([\"id\"],axis=1)\n",
        "test_id = df_test[\"id\"]\n",
        "df_test = df_test.drop([\"id\"],axis=1)\n",
        "df_test = df_test.drop([\"product_code\"],axis=1)"
      ]
    },
    {
      "cell_type": "markdown",
      "metadata": {
        "id": "fMninAesUmKw"
      },
      "source": [
        "Product_code column dropped because it gives no information about test data codes for test data and train data is different and this column may cause overfitting"
      ]
    },
    {
      "cell_type": "code",
      "execution_count": null,
      "metadata": {
        "colab": {
          "base_uri": "https://localhost:8080/"
        },
        "id": "PpRA_id3TmWg",
        "outputId": "7405ccd7-8011-4500-dee8-3ca29ea8445b"
      },
      "outputs": [
        {
          "output_type": "stream",
          "name": "stdout",
          "text": [
            "Observations: 26570\n",
            "Variables: 23\n",
            "cat_cols: 4\n",
            "num_cols: 19\n",
            "cat_but_car: 0\n",
            "num_but_cat: 2\n"
          ]
        }
      ],
      "source": [
        "cat_cols, num_cols, car_cols = col_types(df_train)"
      ]
    },
    {
      "cell_type": "markdown",
      "metadata": {
        "id": "kQ-HG07LHr3o"
      },
      "source": [
        "Merge train and test dataset "
      ]
    },
    {
      "cell_type": "code",
      "execution_count": null,
      "metadata": {
        "id": "ViOEM1q6JMoW"
      },
      "outputs": [],
      "source": [
        "df_len = len(df_train)"
      ]
    },
    {
      "cell_type": "code",
      "execution_count": null,
      "metadata": {
        "id": "D-D-_Wu1q759"
      },
      "outputs": [],
      "source": [
        "df_train = pd.concat([df_train, df_test],ignore_index=True)"
      ]
    },
    {
      "cell_type": "markdown",
      "metadata": {
        "id": "Qqyddi1_U9fn"
      },
      "source": [
        "Convert categorical columns into numerical features"
      ]
    },
    {
      "cell_type": "code",
      "execution_count": null,
      "metadata": {
        "id": "U0p1XL3ttmxU"
      },
      "outputs": [],
      "source": [
        "tmpAry_0 = []\n",
        "tmpAry_1 = []\n",
        "for rows in range(len(df_train)):\n",
        "    tmp_0 = int(df_train['attribute_0'][rows].split('_')[1])\n",
        "    tmpAry_0.append(tmp_0)\n",
        "    tmp_1 = int(df_train['attribute_1'][rows].split('_')[1])\n",
        "    tmpAry_1.append(tmp_1)\n",
        "df_train['attribute_0'] = tmpAry_0\n",
        "df_train['attribute_1'] = tmpAry_1\n"
      ]
    },
    {
      "cell_type": "code",
      "execution_count": null,
      "metadata": {
        "colab": {
          "base_uri": "https://localhost:8080/"
        },
        "id": "V2WZOm5nruct",
        "outputId": "cca61d3a-82fa-442d-a3c0-ed83b7bbecf7"
      },
      "outputs": [
        {
          "output_type": "execute_result",
          "data": {
            "text/plain": [
              "   loading  attribute_0  attribute_1  attribute_2  attribute_3  measurement_0  measurement_1  measurement_2  measurement_3  measurement_4  measurement_5  measurement_6  measurement_7  measurement_8  measurement_9  measurement_10  measurement_11  measurement_12  measurement_13  measurement_14  measurement_15  measurement_16  measurement_17\n",
              "0   80.100            7            8            9            5              7              8              4         18.040         12.518         15.748         19.292         11.739         20.155         10.672          15.859          17.594          15.193          15.029             NaN          13.034          14.684         764.100\n",
              "1   84.890            7            8            9            5             14              3              3         18.213         11.540         17.717         17.893         12.748         17.889         12.448          17.947          17.915          11.755          14.732          15.425          14.395          15.631         682.057\n",
              "2   82.430            7            8            9            5             12              1              5         18.057         11.652         16.738         18.240         12.718         18.288         12.715          15.607             NaN          13.798          16.711          18.631          14.094          17.946         663.376\n",
              "3  101.070            7            8            9            5             13              2              6         17.295         11.188         18.576         18.339         12.583         19.060         12.471          16.346          18.377          10.020          15.250          15.562          16.154          17.172         826.282\n",
              "4  188.060            7            8            9            5              9              2              8         19.346         12.950         16.990         15.746         11.306         18.093         10.337          17.082          19.932          12.428          16.182          12.760          13.153          16.412         579.885"
            ],
            "text/html": [
              "\n",
              "  <div id=\"df-c7c76364-1c63-413d-99e3-e0ce08d819a0\">\n",
              "    <div class=\"colab-df-container\">\n",
              "      <div>\n",
              "<style scoped>\n",
              "    .dataframe tbody tr th:only-of-type {\n",
              "        vertical-align: middle;\n",
              "    }\n",
              "\n",
              "    .dataframe tbody tr th {\n",
              "        vertical-align: top;\n",
              "    }\n",
              "\n",
              "    .dataframe thead th {\n",
              "        text-align: right;\n",
              "    }\n",
              "</style>\n",
              "<table border=\"1\" class=\"dataframe\">\n",
              "  <thead>\n",
              "    <tr style=\"text-align: right;\">\n",
              "      <th></th>\n",
              "      <th>loading</th>\n",
              "      <th>attribute_0</th>\n",
              "      <th>attribute_1</th>\n",
              "      <th>attribute_2</th>\n",
              "      <th>attribute_3</th>\n",
              "      <th>measurement_0</th>\n",
              "      <th>measurement_1</th>\n",
              "      <th>measurement_2</th>\n",
              "      <th>measurement_3</th>\n",
              "      <th>measurement_4</th>\n",
              "      <th>measurement_5</th>\n",
              "      <th>measurement_6</th>\n",
              "      <th>measurement_7</th>\n",
              "      <th>measurement_8</th>\n",
              "      <th>measurement_9</th>\n",
              "      <th>measurement_10</th>\n",
              "      <th>measurement_11</th>\n",
              "      <th>measurement_12</th>\n",
              "      <th>measurement_13</th>\n",
              "      <th>measurement_14</th>\n",
              "      <th>measurement_15</th>\n",
              "      <th>measurement_16</th>\n",
              "      <th>measurement_17</th>\n",
              "    </tr>\n",
              "  </thead>\n",
              "  <tbody>\n",
              "    <tr>\n",
              "      <th>0</th>\n",
              "      <td>80.100</td>\n",
              "      <td>7</td>\n",
              "      <td>8</td>\n",
              "      <td>9</td>\n",
              "      <td>5</td>\n",
              "      <td>7</td>\n",
              "      <td>8</td>\n",
              "      <td>4</td>\n",
              "      <td>18.040</td>\n",
              "      <td>12.518</td>\n",
              "      <td>15.748</td>\n",
              "      <td>19.292</td>\n",
              "      <td>11.739</td>\n",
              "      <td>20.155</td>\n",
              "      <td>10.672</td>\n",
              "      <td>15.859</td>\n",
              "      <td>17.594</td>\n",
              "      <td>15.193</td>\n",
              "      <td>15.029</td>\n",
              "      <td>NaN</td>\n",
              "      <td>13.034</td>\n",
              "      <td>14.684</td>\n",
              "      <td>764.100</td>\n",
              "    </tr>\n",
              "    <tr>\n",
              "      <th>1</th>\n",
              "      <td>84.890</td>\n",
              "      <td>7</td>\n",
              "      <td>8</td>\n",
              "      <td>9</td>\n",
              "      <td>5</td>\n",
              "      <td>14</td>\n",
              "      <td>3</td>\n",
              "      <td>3</td>\n",
              "      <td>18.213</td>\n",
              "      <td>11.540</td>\n",
              "      <td>17.717</td>\n",
              "      <td>17.893</td>\n",
              "      <td>12.748</td>\n",
              "      <td>17.889</td>\n",
              "      <td>12.448</td>\n",
              "      <td>17.947</td>\n",
              "      <td>17.915</td>\n",
              "      <td>11.755</td>\n",
              "      <td>14.732</td>\n",
              "      <td>15.425</td>\n",
              "      <td>14.395</td>\n",
              "      <td>15.631</td>\n",
              "      <td>682.057</td>\n",
              "    </tr>\n",
              "    <tr>\n",
              "      <th>2</th>\n",
              "      <td>82.430</td>\n",
              "      <td>7</td>\n",
              "      <td>8</td>\n",
              "      <td>9</td>\n",
              "      <td>5</td>\n",
              "      <td>12</td>\n",
              "      <td>1</td>\n",
              "      <td>5</td>\n",
              "      <td>18.057</td>\n",
              "      <td>11.652</td>\n",
              "      <td>16.738</td>\n",
              "      <td>18.240</td>\n",
              "      <td>12.718</td>\n",
              "      <td>18.288</td>\n",
              "      <td>12.715</td>\n",
              "      <td>15.607</td>\n",
              "      <td>NaN</td>\n",
              "      <td>13.798</td>\n",
              "      <td>16.711</td>\n",
              "      <td>18.631</td>\n",
              "      <td>14.094</td>\n",
              "      <td>17.946</td>\n",
              "      <td>663.376</td>\n",
              "    </tr>\n",
              "    <tr>\n",
              "      <th>3</th>\n",
              "      <td>101.070</td>\n",
              "      <td>7</td>\n",
              "      <td>8</td>\n",
              "      <td>9</td>\n",
              "      <td>5</td>\n",
              "      <td>13</td>\n",
              "      <td>2</td>\n",
              "      <td>6</td>\n",
              "      <td>17.295</td>\n",
              "      <td>11.188</td>\n",
              "      <td>18.576</td>\n",
              "      <td>18.339</td>\n",
              "      <td>12.583</td>\n",
              "      <td>19.060</td>\n",
              "      <td>12.471</td>\n",
              "      <td>16.346</td>\n",
              "      <td>18.377</td>\n",
              "      <td>10.020</td>\n",
              "      <td>15.250</td>\n",
              "      <td>15.562</td>\n",
              "      <td>16.154</td>\n",
              "      <td>17.172</td>\n",
              "      <td>826.282</td>\n",
              "    </tr>\n",
              "    <tr>\n",
              "      <th>4</th>\n",
              "      <td>188.060</td>\n",
              "      <td>7</td>\n",
              "      <td>8</td>\n",
              "      <td>9</td>\n",
              "      <td>5</td>\n",
              "      <td>9</td>\n",
              "      <td>2</td>\n",
              "      <td>8</td>\n",
              "      <td>19.346</td>\n",
              "      <td>12.950</td>\n",
              "      <td>16.990</td>\n",
              "      <td>15.746</td>\n",
              "      <td>11.306</td>\n",
              "      <td>18.093</td>\n",
              "      <td>10.337</td>\n",
              "      <td>17.082</td>\n",
              "      <td>19.932</td>\n",
              "      <td>12.428</td>\n",
              "      <td>16.182</td>\n",
              "      <td>12.760</td>\n",
              "      <td>13.153</td>\n",
              "      <td>16.412</td>\n",
              "      <td>579.885</td>\n",
              "    </tr>\n",
              "  </tbody>\n",
              "</table>\n",
              "</div>\n",
              "      <button class=\"colab-df-convert\" onclick=\"convertToInteractive('df-c7c76364-1c63-413d-99e3-e0ce08d819a0')\"\n",
              "              title=\"Convert this dataframe to an interactive table.\"\n",
              "              style=\"display:none;\">\n",
              "        \n",
              "  <svg xmlns=\"http://www.w3.org/2000/svg\" height=\"24px\"viewBox=\"0 0 24 24\"\n",
              "       width=\"24px\">\n",
              "    <path d=\"M0 0h24v24H0V0z\" fill=\"none\"/>\n",
              "    <path d=\"M18.56 5.44l.94 2.06.94-2.06 2.06-.94-2.06-.94-.94-2.06-.94 2.06-2.06.94zm-11 1L8.5 8.5l.94-2.06 2.06-.94-2.06-.94L8.5 2.5l-.94 2.06-2.06.94zm10 10l.94 2.06.94-2.06 2.06-.94-2.06-.94-.94-2.06-.94 2.06-2.06.94z\"/><path d=\"M17.41 7.96l-1.37-1.37c-.4-.4-.92-.59-1.43-.59-.52 0-1.04.2-1.43.59L10.3 9.45l-7.72 7.72c-.78.78-.78 2.05 0 2.83L4 21.41c.39.39.9.59 1.41.59.51 0 1.02-.2 1.41-.59l7.78-7.78 2.81-2.81c.8-.78.8-2.07 0-2.86zM5.41 20L4 18.59l7.72-7.72 1.47 1.35L5.41 20z\"/>\n",
              "  </svg>\n",
              "      </button>\n",
              "      \n",
              "  <style>\n",
              "    .colab-df-container {\n",
              "      display:flex;\n",
              "      flex-wrap:wrap;\n",
              "      gap: 12px;\n",
              "    }\n",
              "\n",
              "    .colab-df-convert {\n",
              "      background-color: #E8F0FE;\n",
              "      border: none;\n",
              "      border-radius: 50%;\n",
              "      cursor: pointer;\n",
              "      display: none;\n",
              "      fill: #1967D2;\n",
              "      height: 32px;\n",
              "      padding: 0 0 0 0;\n",
              "      width: 32px;\n",
              "    }\n",
              "\n",
              "    .colab-df-convert:hover {\n",
              "      background-color: #E2EBFA;\n",
              "      box-shadow: 0px 1px 2px rgba(60, 64, 67, 0.3), 0px 1px 3px 1px rgba(60, 64, 67, 0.15);\n",
              "      fill: #174EA6;\n",
              "    }\n",
              "\n",
              "    [theme=dark] .colab-df-convert {\n",
              "      background-color: #3B4455;\n",
              "      fill: #D2E3FC;\n",
              "    }\n",
              "\n",
              "    [theme=dark] .colab-df-convert:hover {\n",
              "      background-color: #434B5C;\n",
              "      box-shadow: 0px 1px 3px 1px rgba(0, 0, 0, 0.15);\n",
              "      filter: drop-shadow(0px 1px 2px rgba(0, 0, 0, 0.3));\n",
              "      fill: #FFFFFF;\n",
              "    }\n",
              "  </style>\n",
              "\n",
              "      <script>\n",
              "        const buttonEl =\n",
              "          document.querySelector('#df-c7c76364-1c63-413d-99e3-e0ce08d819a0 button.colab-df-convert');\n",
              "        buttonEl.style.display =\n",
              "          google.colab.kernel.accessAllowed ? 'block' : 'none';\n",
              "\n",
              "        async function convertToInteractive(key) {\n",
              "          const element = document.querySelector('#df-c7c76364-1c63-413d-99e3-e0ce08d819a0');\n",
              "          const dataTable =\n",
              "            await google.colab.kernel.invokeFunction('convertToInteractive',\n",
              "                                                     [key], {});\n",
              "          if (!dataTable) return;\n",
              "\n",
              "          const docLinkHtml = 'Like what you see? Visit the ' +\n",
              "            '<a target=\"_blank\" href=https://colab.research.google.com/notebooks/data_table.ipynb>data table notebook</a>'\n",
              "            + ' to learn more about interactive tables.';\n",
              "          element.innerHTML = '';\n",
              "          dataTable['output_type'] = 'display_data';\n",
              "          await google.colab.output.renderOutput(dataTable, element);\n",
              "          const docLink = document.createElement('div');\n",
              "          docLink.innerHTML = docLinkHtml;\n",
              "          element.appendChild(docLink);\n",
              "        }\n",
              "      </script>\n",
              "    </div>\n",
              "  </div>\n",
              "  "
            ]
          },
          "metadata": {},
          "execution_count": 43
        }
      ],
      "source": [
        "df_train.head()"
      ]
    },
    {
      "cell_type": "markdown",
      "metadata": {
        "id": "LDjkTubyXxj1"
      },
      "source": [
        "Standartize the columns and fill the na columns with KNNImputer"
      ]
    },
    {
      "cell_type": "code",
      "execution_count": null,
      "metadata": {
        "colab": {
          "base_uri": "https://localhost:8080/"
        },
        "id": "ZUzaHgjbV9LR",
        "outputId": "c2b3d285-4788-4fea-ee7e-7124fc2193e8"
      },
      "outputs": [
        {
          "output_type": "stream",
          "name": "stdout",
          "text": [
            "Observations: 47345\n",
            "Variables: 23\n",
            "cat_cols: 4\n",
            "num_cols: 19\n",
            "cat_but_car: 0\n",
            "num_but_cat: 4\n"
          ]
        }
      ],
      "source": [
        "cat_cols, num_cols, car_cols = col_types(df_train)\n",
        "scaler_tr = StandardScaler()\n",
        "df_train[num_cols+cat_cols] = pd.DataFrame(scaler_tr.fit_transform(df_train[num_cols+cat_cols]), columns=num_cols+cat_cols)\n",
        "\n",
        "\n",
        "imputer_tr = KNNImputer(n_neighbors=5)\n",
        "df_train[num_cols] = pd.DataFrame(imputer_tr.fit_transform(df_train[num_cols]), columns=num_cols)\n",
        "\n"
      ]
    },
    {
      "cell_type": "code",
      "execution_count": null,
      "metadata": {
        "colab": {
          "base_uri": "https://localhost:8080/"
        },
        "id": "gR6OZaxHYWQQ",
        "outputId": "e30e5380-63e2-41f3-a21a-914941864f25"
      },
      "outputs": [
        {
          "output_type": "execute_result",
          "data": {
            "text/plain": [
              "   loading  attribute_0  attribute_1  attribute_2  attribute_3  measurement_0  measurement_1  measurement_2  measurement_3  measurement_4  measurement_5  measurement_6  measurement_7  measurement_8  measurement_9  measurement_10  measurement_11  measurement_12  measurement_13  measurement_14  measurement_15  measurement_16  measurement_17\n",
              "0   -1.219        0.707        1.549        1.223       -1.017         -0.103         -0.129         -0.620          0.247          0.787         -1.382          1.783          0.025          1.120         -0.753          -0.177          -0.920           2.361          -0.529           0.906          -1.301          -1.102           0.497\n",
              "1   -1.096        0.707        1.549        1.223       -1.017          1.569         -1.299         -0.901          0.420         -0.190          0.584          0.381          1.033         -1.130          1.023           1.236          -0.715          -0.028          -0.767          -0.451          -0.422          -0.539          -0.152\n",
              "2   -1.159        0.707        1.549        1.223       -1.017          1.091         -1.767         -0.338          0.264         -0.078         -0.394          0.729          1.003         -0.734          1.291          -0.347          -0.056           1.392           0.818           1.750          -0.616           0.837          -0.300\n",
              "3   -0.682        0.707        1.549        1.223       -1.017          1.330         -1.533         -0.056         -0.497         -0.542          1.441          0.828          0.868          0.032          1.046           0.153          -0.418          -1.234          -0.352          -0.357           0.714           0.377           0.989\n",
              "4    1.543        0.707        1.549        1.223       -1.017          0.374         -1.533          0.507          1.551          1.219         -0.142         -1.771         -0.408         -0.928         -1.089           0.651           0.579           0.440           0.394          -2.279          -1.224          -0.075          -0.961"
            ],
            "text/html": [
              "\n",
              "  <div id=\"df-5ca98896-25ce-4868-b811-3fc9a9f46bb1\">\n",
              "    <div class=\"colab-df-container\">\n",
              "      <div>\n",
              "<style scoped>\n",
              "    .dataframe tbody tr th:only-of-type {\n",
              "        vertical-align: middle;\n",
              "    }\n",
              "\n",
              "    .dataframe tbody tr th {\n",
              "        vertical-align: top;\n",
              "    }\n",
              "\n",
              "    .dataframe thead th {\n",
              "        text-align: right;\n",
              "    }\n",
              "</style>\n",
              "<table border=\"1\" class=\"dataframe\">\n",
              "  <thead>\n",
              "    <tr style=\"text-align: right;\">\n",
              "      <th></th>\n",
              "      <th>loading</th>\n",
              "      <th>attribute_0</th>\n",
              "      <th>attribute_1</th>\n",
              "      <th>attribute_2</th>\n",
              "      <th>attribute_3</th>\n",
              "      <th>measurement_0</th>\n",
              "      <th>measurement_1</th>\n",
              "      <th>measurement_2</th>\n",
              "      <th>measurement_3</th>\n",
              "      <th>measurement_4</th>\n",
              "      <th>measurement_5</th>\n",
              "      <th>measurement_6</th>\n",
              "      <th>measurement_7</th>\n",
              "      <th>measurement_8</th>\n",
              "      <th>measurement_9</th>\n",
              "      <th>measurement_10</th>\n",
              "      <th>measurement_11</th>\n",
              "      <th>measurement_12</th>\n",
              "      <th>measurement_13</th>\n",
              "      <th>measurement_14</th>\n",
              "      <th>measurement_15</th>\n",
              "      <th>measurement_16</th>\n",
              "      <th>measurement_17</th>\n",
              "    </tr>\n",
              "  </thead>\n",
              "  <tbody>\n",
              "    <tr>\n",
              "      <th>0</th>\n",
              "      <td>-1.219</td>\n",
              "      <td>0.707</td>\n",
              "      <td>1.549</td>\n",
              "      <td>1.223</td>\n",
              "      <td>-1.017</td>\n",
              "      <td>-0.103</td>\n",
              "      <td>-0.129</td>\n",
              "      <td>-0.620</td>\n",
              "      <td>0.247</td>\n",
              "      <td>0.787</td>\n",
              "      <td>-1.382</td>\n",
              "      <td>1.783</td>\n",
              "      <td>0.025</td>\n",
              "      <td>1.120</td>\n",
              "      <td>-0.753</td>\n",
              "      <td>-0.177</td>\n",
              "      <td>-0.920</td>\n",
              "      <td>2.361</td>\n",
              "      <td>-0.529</td>\n",
              "      <td>0.906</td>\n",
              "      <td>-1.301</td>\n",
              "      <td>-1.102</td>\n",
              "      <td>0.497</td>\n",
              "    </tr>\n",
              "    <tr>\n",
              "      <th>1</th>\n",
              "      <td>-1.096</td>\n",
              "      <td>0.707</td>\n",
              "      <td>1.549</td>\n",
              "      <td>1.223</td>\n",
              "      <td>-1.017</td>\n",
              "      <td>1.569</td>\n",
              "      <td>-1.299</td>\n",
              "      <td>-0.901</td>\n",
              "      <td>0.420</td>\n",
              "      <td>-0.190</td>\n",
              "      <td>0.584</td>\n",
              "      <td>0.381</td>\n",
              "      <td>1.033</td>\n",
              "      <td>-1.130</td>\n",
              "      <td>1.023</td>\n",
              "      <td>1.236</td>\n",
              "      <td>-0.715</td>\n",
              "      <td>-0.028</td>\n",
              "      <td>-0.767</td>\n",
              "      <td>-0.451</td>\n",
              "      <td>-0.422</td>\n",
              "      <td>-0.539</td>\n",
              "      <td>-0.152</td>\n",
              "    </tr>\n",
              "    <tr>\n",
              "      <th>2</th>\n",
              "      <td>-1.159</td>\n",
              "      <td>0.707</td>\n",
              "      <td>1.549</td>\n",
              "      <td>1.223</td>\n",
              "      <td>-1.017</td>\n",
              "      <td>1.091</td>\n",
              "      <td>-1.767</td>\n",
              "      <td>-0.338</td>\n",
              "      <td>0.264</td>\n",
              "      <td>-0.078</td>\n",
              "      <td>-0.394</td>\n",
              "      <td>0.729</td>\n",
              "      <td>1.003</td>\n",
              "      <td>-0.734</td>\n",
              "      <td>1.291</td>\n",
              "      <td>-0.347</td>\n",
              "      <td>-0.056</td>\n",
              "      <td>1.392</td>\n",
              "      <td>0.818</td>\n",
              "      <td>1.750</td>\n",
              "      <td>-0.616</td>\n",
              "      <td>0.837</td>\n",
              "      <td>-0.300</td>\n",
              "    </tr>\n",
              "    <tr>\n",
              "      <th>3</th>\n",
              "      <td>-0.682</td>\n",
              "      <td>0.707</td>\n",
              "      <td>1.549</td>\n",
              "      <td>1.223</td>\n",
              "      <td>-1.017</td>\n",
              "      <td>1.330</td>\n",
              "      <td>-1.533</td>\n",
              "      <td>-0.056</td>\n",
              "      <td>-0.497</td>\n",
              "      <td>-0.542</td>\n",
              "      <td>1.441</td>\n",
              "      <td>0.828</td>\n",
              "      <td>0.868</td>\n",
              "      <td>0.032</td>\n",
              "      <td>1.046</td>\n",
              "      <td>0.153</td>\n",
              "      <td>-0.418</td>\n",
              "      <td>-1.234</td>\n",
              "      <td>-0.352</td>\n",
              "      <td>-0.357</td>\n",
              "      <td>0.714</td>\n",
              "      <td>0.377</td>\n",
              "      <td>0.989</td>\n",
              "    </tr>\n",
              "    <tr>\n",
              "      <th>4</th>\n",
              "      <td>1.543</td>\n",
              "      <td>0.707</td>\n",
              "      <td>1.549</td>\n",
              "      <td>1.223</td>\n",
              "      <td>-1.017</td>\n",
              "      <td>0.374</td>\n",
              "      <td>-1.533</td>\n",
              "      <td>0.507</td>\n",
              "      <td>1.551</td>\n",
              "      <td>1.219</td>\n",
              "      <td>-0.142</td>\n",
              "      <td>-1.771</td>\n",
              "      <td>-0.408</td>\n",
              "      <td>-0.928</td>\n",
              "      <td>-1.089</td>\n",
              "      <td>0.651</td>\n",
              "      <td>0.579</td>\n",
              "      <td>0.440</td>\n",
              "      <td>0.394</td>\n",
              "      <td>-2.279</td>\n",
              "      <td>-1.224</td>\n",
              "      <td>-0.075</td>\n",
              "      <td>-0.961</td>\n",
              "    </tr>\n",
              "  </tbody>\n",
              "</table>\n",
              "</div>\n",
              "      <button class=\"colab-df-convert\" onclick=\"convertToInteractive('df-5ca98896-25ce-4868-b811-3fc9a9f46bb1')\"\n",
              "              title=\"Convert this dataframe to an interactive table.\"\n",
              "              style=\"display:none;\">\n",
              "        \n",
              "  <svg xmlns=\"http://www.w3.org/2000/svg\" height=\"24px\"viewBox=\"0 0 24 24\"\n",
              "       width=\"24px\">\n",
              "    <path d=\"M0 0h24v24H0V0z\" fill=\"none\"/>\n",
              "    <path d=\"M18.56 5.44l.94 2.06.94-2.06 2.06-.94-2.06-.94-.94-2.06-.94 2.06-2.06.94zm-11 1L8.5 8.5l.94-2.06 2.06-.94-2.06-.94L8.5 2.5l-.94 2.06-2.06.94zm10 10l.94 2.06.94-2.06 2.06-.94-2.06-.94-.94-2.06-.94 2.06-2.06.94z\"/><path d=\"M17.41 7.96l-1.37-1.37c-.4-.4-.92-.59-1.43-.59-.52 0-1.04.2-1.43.59L10.3 9.45l-7.72 7.72c-.78.78-.78 2.05 0 2.83L4 21.41c.39.39.9.59 1.41.59.51 0 1.02-.2 1.41-.59l7.78-7.78 2.81-2.81c.8-.78.8-2.07 0-2.86zM5.41 20L4 18.59l7.72-7.72 1.47 1.35L5.41 20z\"/>\n",
              "  </svg>\n",
              "      </button>\n",
              "      \n",
              "  <style>\n",
              "    .colab-df-container {\n",
              "      display:flex;\n",
              "      flex-wrap:wrap;\n",
              "      gap: 12px;\n",
              "    }\n",
              "\n",
              "    .colab-df-convert {\n",
              "      background-color: #E8F0FE;\n",
              "      border: none;\n",
              "      border-radius: 50%;\n",
              "      cursor: pointer;\n",
              "      display: none;\n",
              "      fill: #1967D2;\n",
              "      height: 32px;\n",
              "      padding: 0 0 0 0;\n",
              "      width: 32px;\n",
              "    }\n",
              "\n",
              "    .colab-df-convert:hover {\n",
              "      background-color: #E2EBFA;\n",
              "      box-shadow: 0px 1px 2px rgba(60, 64, 67, 0.3), 0px 1px 3px 1px rgba(60, 64, 67, 0.15);\n",
              "      fill: #174EA6;\n",
              "    }\n",
              "\n",
              "    [theme=dark] .colab-df-convert {\n",
              "      background-color: #3B4455;\n",
              "      fill: #D2E3FC;\n",
              "    }\n",
              "\n",
              "    [theme=dark] .colab-df-convert:hover {\n",
              "      background-color: #434B5C;\n",
              "      box-shadow: 0px 1px 3px 1px rgba(0, 0, 0, 0.15);\n",
              "      filter: drop-shadow(0px 1px 2px rgba(0, 0, 0, 0.3));\n",
              "      fill: #FFFFFF;\n",
              "    }\n",
              "  </style>\n",
              "\n",
              "      <script>\n",
              "        const buttonEl =\n",
              "          document.querySelector('#df-5ca98896-25ce-4868-b811-3fc9a9f46bb1 button.colab-df-convert');\n",
              "        buttonEl.style.display =\n",
              "          google.colab.kernel.accessAllowed ? 'block' : 'none';\n",
              "\n",
              "        async function convertToInteractive(key) {\n",
              "          const element = document.querySelector('#df-5ca98896-25ce-4868-b811-3fc9a9f46bb1');\n",
              "          const dataTable =\n",
              "            await google.colab.kernel.invokeFunction('convertToInteractive',\n",
              "                                                     [key], {});\n",
              "          if (!dataTable) return;\n",
              "\n",
              "          const docLinkHtml = 'Like what you see? Visit the ' +\n",
              "            '<a target=\"_blank\" href=https://colab.research.google.com/notebooks/data_table.ipynb>data table notebook</a>'\n",
              "            + ' to learn more about interactive tables.';\n",
              "          element.innerHTML = '';\n",
              "          dataTable['output_type'] = 'display_data';\n",
              "          await google.colab.output.renderOutput(dataTable, element);\n",
              "          const docLink = document.createElement('div');\n",
              "          docLink.innerHTML = docLinkHtml;\n",
              "          element.appendChild(docLink);\n",
              "        }\n",
              "      </script>\n",
              "    </div>\n",
              "  </div>\n",
              "  "
            ]
          },
          "metadata": {},
          "execution_count": 45
        }
      ],
      "source": [
        "df_train.head()"
      ]
    },
    {
      "cell_type": "markdown",
      "metadata": {
        "id": "IbfDchHrH64X"
      },
      "source": [
        "Split two sets "
      ]
    },
    {
      "cell_type": "code",
      "execution_count": null,
      "metadata": {
        "id": "qkW7jtpRrTgG"
      },
      "outputs": [],
      "source": [
        "df_test = df_train.iloc[df_len:]"
      ]
    },
    {
      "cell_type": "code",
      "execution_count": null,
      "metadata": {
        "colab": {
          "base_uri": "https://localhost:8080/"
        },
        "id": "zcJMJbJNsh-P",
        "outputId": "39daf91b-9597-4582-9224-d046c8c502f4"
      },
      "outputs": [
        {
          "output_type": "execute_result",
          "data": {
            "text/plain": [
              "(20775, 23)"
            ]
          },
          "metadata": {},
          "execution_count": 47
        }
      ],
      "source": [
        "df_test.shape"
      ]
    },
    {
      "cell_type": "code",
      "execution_count": null,
      "metadata": {
        "id": "gs7E0M7wrgyJ"
      },
      "outputs": [],
      "source": [
        "df_train = df_train.iloc[:df_len]"
      ]
    },
    {
      "cell_type": "code",
      "execution_count": null,
      "metadata": {
        "colab": {
          "base_uri": "https://localhost:8080/"
        },
        "id": "j2f4iPlHsydn",
        "outputId": "d707e122-d560-4b6c-d94a-81dce1d73581"
      },
      "outputs": [
        {
          "output_type": "execute_result",
          "data": {
            "text/plain": [
              "(26570, 23)"
            ]
          },
          "metadata": {},
          "execution_count": 49
        }
      ],
      "source": [
        "df_train.shape"
      ]
    },
    {
      "cell_type": "markdown",
      "metadata": {
        "id": "msuVIsJ2Ygw-"
      },
      "source": [
        "## Model Building Automated Hyperparameter Optimization"
      ]
    },
    {
      "cell_type": "code",
      "execution_count": null,
      "metadata": {
        "colab": {
          "base_uri": "https://localhost:8080/"
        },
        "id": "XEsrScgmYgBM",
        "outputId": "51baf173-3451-4933-d3c4-4eec7ab631ac"
      },
      "outputs": [
        {
          "name": "stdout",
          "output_type": "stream",
          "text": [
            "Base Models....\n",
            "roc_auc: 0.5921 (LR) \n",
            "roc_auc: 0.5116 (KNN) \n",
            "roc_auc: 0.51 (SVC) \n",
            "roc_auc: 0.51 (CART) \n",
            "roc_auc: 0.5767 (Adaboost) \n",
            "roc_auc: 0.5583 (GBM) \n",
            "roc_auc: 0.5624 (XGBoost) \n",
            "roc_auc: 0.537 (LightGBM) \n"
          ]
        }
      ],
      "source": [
        "base_models(df_train, Y)"
      ]
    },
    {
      "cell_type": "markdown",
      "metadata": {
        "id": "0k6rFjMco7_p"
      },
      "source": [
        "Best models for dataset is  DecisionTreeClassifier and\n",
        "LGBMClassifier"
      ]
    },
    {
      "cell_type": "markdown",
      "metadata": {
        "id": "VkgoVicypJX6"
      },
      "source": [
        "Cross validate results for base LGBM Classifier Example Model to inspect confusion matrix"
      ]
    },
    {
      "cell_type": "code",
      "execution_count": null,
      "metadata": {
        "colab": {
          "base_uri": "https://localhost:8080/"
        },
        "id": "hQNrbGQRR3u0",
        "outputId": "50bcf5e7-cf81-49d9-bab2-9eb3894ddefe"
      },
      "outputs": [
        {
          "name": "stdout",
          "output_type": "stream",
          "text": [
            "0.5853970643582989\n",
            "0.5369653686161959\n",
            "0.14545088048764057\n"
          ]
        }
      ],
      "source": [
        "lgbm_model = LGBMClassifier()\n",
        "lgbm_model.get_params()\n",
        "cv_results = cross_validate(lgbm_model, df_train, Y, cv=5, scoring=[\"accuracy\", \"f1\", \"roc_auc\"])\n",
        "print(cv_results['test_accuracy'].mean())\n",
        "print(cv_results['test_roc_auc'].mean())\n",
        "print(cv_results['test_f1'].mean())"
      ]
    },
    {
      "cell_type": "markdown",
      "metadata": {
        "id": "jHwzvVbupT4x"
      },
      "source": [
        "Confusion matrix is an important indicator because dataset is unbalanced and model's f1 score is extremely low"
      ]
    },
    {
      "cell_type": "code",
      "execution_count": null,
      "metadata": {
        "colab": {
          "base_uri": "https://localhost:8080/",
          "height": 294
        },
        "id": "DMSQHXZhSV5I",
        "outputId": "889364a3-b4f3-418b-8785-dc69babfb8fb"
      },
      "outputs": [
        {
          "data": {
            "image/png": "[encoded data removed]",
            "text/plain": [
              "<Figure size 432x288 with 2 Axes>"
            ]
          },
          "metadata": {},
          "output_type": "display_data"
        }
      ],
      "source": [
        "lgbm_model = LGBMClassifier().fit(df_train,Y)\n",
        "y_pred = lgbm_model.predict(df_train)\n",
        "plot_confusion_matrix(Y,y_pred)"
      ]
    },
    {
      "cell_type": "markdown",
      "metadata": {
        "id": "v6ML8unLpuoH"
      },
      "source": [
        "We can see that the Type II error percentage is the fundamental problem"
      ]
    },
    {
      "cell_type": "markdown",
      "metadata": {
        "id": "zRvmdkMeqSB3"
      },
      "source": [
        "###Hyperparameter optimization of all models"
      ]
    },
    {
      "cell_type": "markdown",
      "metadata": {
        "id": "dB1UWgWwwamD"
      },
      "source": [
        "Decrease the class weight of 0 because of Type II error \n"
      ]
    },
    {
      "cell_type": "code",
      "execution_count": null,
      "metadata": {
        "id": "6jNgpeSdTJM4"
      },
      "outputs": [],
      "source": [
        "weights = np.linspace(0.1,0.21,3)"
      ]
    },
    {
      "cell_type": "code",
      "execution_count": null,
      "metadata": {
        "id": "lLEqpqQLcuZD"
      },
      "outputs": [],
      "source": [
        "dict_w = [{0:x, 1:1.0-x} for x in weights]"
      ]
    },
    {
      "cell_type": "code",
      "execution_count": null,
      "metadata": {
        "id": "J8BDmPnTXar8"
      },
      "outputs": [],
      "source": [
        "X_train, X_test, y_train, y_test = train_test_split(df_train, Y, test_size=0.2)"
      ]
    },
    {
      "cell_type": "code",
      "execution_count": null,
      "metadata": {
        "colab": {
          "base_uri": "https://localhost:8080/",
          "height": 294
        },
        "id": "EEZGc2UF_X-g",
        "outputId": "811db036-9b96-4128-cead-41461acb2b13"
      },
      "outputs": [
        {
          "data": {
            "image/png": "[encoded data removed]",
            "text/plain": [
              "<Figure size 432x288 with 2 Axes>"
            ]
          },
          "metadata": {},
          "output_type": "display_data"
        }
      ],
      "source": [
        "lgbm_model = LGBMClassifier(class_weight=[{0:x, 1:1.0-x} for x in weights][1]).fit(X_train,y_train)\n",
        "y_pred = lgbm_model.predict(X_test)\n",
        "plot_confusion_matrix(y_test,y_pred)"
      ]
    },
    {
      "cell_type": "markdown",
      "metadata": {
        "id": "LFa8bOHWdJwB"
      },
      "source": [
        "Type II problem can be solved with appropriate class_weight parameter"
      ]
    },
    {
      "cell_type": "code",
      "execution_count": null,
      "metadata": {
        "id": "jhm5QvLrqhZu"
      },
      "outputs": [],
      "source": [
        "\n",
        "cart_params = {'max_depth': range(1, 12),\n",
        "               \"min_samples_split\": range(2, 20),\n",
        "               \"class_weight\":dict_w}\n",
        "\n",
        "rf_params = {\"max_depth\": [8, 15, None],\n",
        "             \"max_features\": [5, 7, \"auto\"],\n",
        "             \"min_samples_split\": [15, 20],\n",
        "             \"n_estimators\": [200, 300],\n",
        "             \"class_weight\":dict_w}\n",
        "\n",
        "\n",
        "\n",
        "lightgbm_params = {\"learning_rate\": [0.01, 0.1],\n",
        "                   \"n_estimators\": [300, 500],\n",
        "                   \"colsample_bytree\": [0.7, 1],\n",
        "                   \"class_weight\":dict_w}\n",
        "\n",
        "catBoost_params = {\"iterations\": [200, 500],\n",
        "                   \"learning_rate\": [0.01, 0.1],\n",
        "                   \"depth\": [3, 6],\n",
        "                   \"class_weights\":dict_w}\n",
        "\n",
        "classifiers = [(\"CART\", DecisionTreeClassifier(), cart_params),\n",
        "               (\"RF\", RandomForestClassifier(), rf_params),\n",
        "               ('LightGBM', LGBMClassifier(), lightgbm_params)  ,       \n",
        "               ('CatBoost', CatBoostClassifier(verbose=False), catBoost_params)]"
      ]
    },
    {
      "cell_type": "code",
      "execution_count": null,
      "metadata": {
        "colab": {
          "base_uri": "https://localhost:8080/"
        },
        "id": "R_XpsjTzc5c5",
        "outputId": "08ff0a6d-cf3c-4238-844a-3b2cf7f3745a"
      },
      "outputs": [
        {
          "name": "stdout",
          "output_type": "stream",
          "text": [
            "Hyperparameter Optimization....\n",
            "########## CART ##########\n",
            "roc_auc (Before): 0.5087\n",
            "roc_auc (After): 0.5655\n",
            "CART best params: {'class_weight': {0: 0.21, 1: 0.79}, 'max_depth': 2, 'min_samples_split': 2}\n",
            "\n",
            "########## RF ##########\n",
            "roc_auc (Before): 0.532\n",
            "roc_auc (After): 0.5253\n",
            "RF best params: {'class_weight': {0: 0.21, 1: 0.79}, 'max_depth': None, 'max_features': 7, 'min_samples_split': 15, 'n_estimators': 300}\n",
            "\n",
            "########## LightGBM ##########\n",
            "roc_auc (Before): 0.537\n",
            "roc_auc (After): 0.5373\n",
            "LightGBM best params: {'class_weight': {0: 0.21, 1: 0.79}, 'colsample_bytree': 1, 'learning_rate': 0.1, 'n_estimators': 500}\n",
            "\n",
            "########## CatBoost ##########\n",
            "roc_auc (Before): 0.5463\n",
            "roc_auc (After): 0.5379\n",
            "CatBoost best params: {'class_weights': {0: 0.21, 1: 0.79}, 'depth': 6, 'iterations': 500, 'learning_rate': 0.1}\n",
            "\n"
          ]
        }
      ],
      "source": [
        "best_models = hyperparameter_optimization(df_train, Y)"
      ]
    },
    {
      "cell_type": "code",
      "execution_count": null,
      "metadata": {
        "colab": {
          "base_uri": "https://localhost:8080/",
          "height": 294
        },
        "id": "d4j5DWuPDolQ",
        "outputId": "c95ee9ae-078e-4fd4-daa0-1d3a7dda05dc"
      },
      "outputs": [
        {
          "data": {
            "image/png": "[encoded data removed]",
            "text/plain": [
              "<Figure size 432x288 with 2 Axes>"
            ]
          },
          "metadata": {},
          "output_type": "display_data"
        }
      ],
      "source": [
        "CART = best_models[\"CART\"].fit(X_train,y_train)\n",
        "y_pred = CART.predict(X_test)\n",
        "plot_confusion_matrix(y_test,y_pred)"
      ]
    },
    {
      "cell_type": "code",
      "execution_count": null,
      "metadata": {
        "colab": {
          "base_uri": "https://localhost:8080/",
          "height": 294
        },
        "id": "NX3bou5wOL6g",
        "outputId": "8cc827a5-d8ec-49dd-bbb3-56710420a1ca"
      },
      "outputs": [
        {
          "data": {
            "image/png": "[encoded data removed]",
            "text/plain": [
              "<Figure size 432x288 with 2 Axes>"
            ]
          },
          "metadata": {},
          "output_type": "display_data"
        }
      ],
      "source": [
        "lgbm_model = best_models[\"LightGBM\"].fit(X_train,y_train)\n",
        "y_pred = lgbm_model.predict(X_test)\n",
        "plot_confusion_matrix(y_test,y_pred)"
      ]
    },
    {
      "cell_type": "code",
      "execution_count": null,
      "metadata": {
        "colab": {
          "base_uri": "https://localhost:8080/",
          "height": 294
        },
        "id": "6Hx9h-7hEkBr",
        "outputId": "0cd020f2-d579-457a-9098-6128e5850b25"
      },
      "outputs": [
        {
          "data": {
            "image/png": "[encoded data removed]",
            "text/plain": [
              "<Figure size 432x288 with 2 Axes>"
            ]
          },
          "metadata": {},
          "output_type": "display_data"
        }
      ],
      "source": [
        "lgbp = {'class_weight': {0: 0.11, 1: 1-0.11}, 'colsample_bytree': 1, 'learning_rate': 0.1, 'n_estimators': 500}\n",
        "lgbm_model = LGBMClassifier(**lgbp).fit(X_train,y_train)\n",
        "y_pred = lgbm_model.predict(X_test)\n",
        "plot_confusion_matrix(y_test,y_pred)"
      ]
    },
    {
      "cell_type": "code",
      "execution_count": null,
      "metadata": {
        "colab": {
          "base_uri": "https://localhost:8080/",
          "height": 294
        },
        "id": "akkAFjFuOSTj",
        "outputId": "cc28f4db-2377-42c3-850f-27ce395d702e"
      },
      "outputs": [
        {
          "data": {
            "image/png": "[encoded data removed]",
            "text/plain": [
              "<Figure size 432x288 with 2 Axes>"
            ]
          },
          "metadata": {},
          "output_type": "display_data"
        }
      ],
      "source": [
        "rf_mod = best_models[\"RF\"].fit(X_train,y_train)\n",
        "y_pred = rf_mod.predict(X_test)\n",
        "plot_confusion_matrix(y_test,y_pred)"
      ]
    },
    {
      "cell_type": "code",
      "execution_count": null,
      "metadata": {
        "colab": {
          "base_uri": "https://localhost:8080/",
          "height": 294
        },
        "id": "_lHgULHHFHXJ",
        "outputId": "85cccb59-828d-4421-9005-f9f9fd039388"
      },
      "outputs": [
        {
          "data": {
            "image/png": "[encoded data removed]",
            "text/plain": [
              "<Figure size 432x288 with 2 Axes>"
            ]
          },
          "metadata": {},
          "output_type": "display_data"
        }
      ],
      "source": [
        "rf_p = {'class_weight': {0: 0.21, 1: 0.79}, 'max_depth': None, 'max_features': 7, 'min_samples_split': 15, 'n_estimators': 300}\n",
        "rf_mod = RandomForestClassifier(**rf_p).fit(X_train,y_train)\n",
        "y_pred = rf_mod.predict(X_test)\n",
        "plot_confusion_matrix(y_test,y_pred)"
      ]
    },
    {
      "cell_type": "code",
      "execution_count": null,
      "metadata": {
        "colab": {
          "base_uri": "https://localhost:8080/",
          "height": 294
        },
        "id": "endNa11evvfY",
        "outputId": "5f7c91b3-fcdb-4825-aa4c-41402facbf08"
      },
      "outputs": [
        {
          "data": {
            "image/png": "[encoded data removed]",
            "text/plain": [
              "<Figure size 432x288 with 2 Axes>"
            ]
          },
          "metadata": {},
          "output_type": "display_data"
        }
      ],
      "source": [
        "catb = best_models[\"CatBoost\"].fit(X_train,y_train)\n",
        "y_pred = catb.predict(X_test)\n",
        "plot_confusion_matrix(y_test,y_pred)"
      ]
    },
    {
      "cell_type": "code",
      "execution_count": null,
      "metadata": {
        "colab": {
          "base_uri": "https://localhost:8080/",
          "height": 294
        },
        "id": "-PyASuSkGALN",
        "outputId": "68513223-4289-4742-c8bf-b671cc898b3f"
      },
      "outputs": [
        {
          "data": {
            "image/png": "[encoded data removed]",
            "text/plain": [
              "<Figure size 432x288 with 2 Axes>"
            ]
          },
          "metadata": {},
          "output_type": "display_data"
        }
      ],
      "source": [
        "catb_p = {'class_weights': {0: 0.15, 1: 1-0.15}, 'depth': 6, 'iterations': 500, 'learning_rate': 0.1}\n",
        "catb = CatBoostClassifier(verbose=False,**catb_p).fit(X_train,y_train)\n",
        "y_pred = catb.predict(X_test)\n",
        "plot_confusion_matrix(y_test,y_pred)"
      ]
    },
    {
      "cell_type": "markdown",
      "metadata": {
        "id": "6oZqiYN-WsyM"
      },
      "source": [
        "Stacking and Ensemble Learning"
      ]
    },
    {
      "cell_type": "code",
      "execution_count": null,
      "metadata": {
        "colab": {
          "base_uri": "https://localhost:8080/"
        },
        "id": "Tc9HIqcCmLzk",
        "outputId": "9e11161b-a332-4f89-a457-a98b7f4c17e7"
      },
      "outputs": [
        {
          "name": "stdout",
          "output_type": "stream",
          "text": [
            "Accuracy: 0.5388407978923598\n",
            "F1Score: 0.21648602395163657\n",
            "ROC_AUC: 0.5617250863040886\n"
          ]
        }
      ],
      "source": [
        "voting_clf = VotingClassifier(estimators=[ (\"LightGBM\", lgbm_model),\n",
        "                                            (\"CAT\", catb),\n",
        "                                            (\"CART\", CART)],\n",
        "                                voting='soft').fit(df_train, Y)\n",
        "cv_results = cross_validate(voting_clf, df_train, Y, cv=5, scoring=[\"accuracy\", \"f1\", \"roc_auc\"])\n",
        "print(f\"Accuracy: {cv_results['test_accuracy'].mean()}\")\n",
        "print(f\"F1Score: {cv_results['test_f1'].mean()}\")\n",
        "print(f\"ROC_AUC: {cv_results['test_roc_auc'].mean()}\")"
      ]
    },
    {
      "cell_type": "code",
      "execution_count": null,
      "metadata": {
        "colab": {
          "base_uri": "https://localhost:8080/",
          "height": 294
        },
        "id": "O2LvVYgK23Ec",
        "outputId": "3b844ad5-fb0c-45c9-b74f-bcc9644851bb"
      },
      "outputs": [
        {
          "data": {
            "image/png": "[encoded data removed]",
            "text/plain": [
              "<Figure size 432x288 with 2 Axes>"
            ]
          },
          "metadata": {},
          "output_type": "display_data"
        }
      ],
      "source": [
        "y_pred = voting_clf.predict(X_test)\n",
        "plot_confusion_matrix(y_test,y_pred)"
      ]
    },
    {
      "cell_type": "markdown",
      "metadata": {
        "id": "GMW-qujHIDFm"
      },
      "source": [
        "Voting Classifier for better result"
      ]
    },
    {
      "cell_type": "code",
      "execution_count": null,
      "metadata": {
        "id": "7Ob7qghAnInn"
      },
      "outputs": [],
      "source": [
        "y_pred = voting_clf.predict(df_test)\n",
        "target = pd.read_csv(\"test.csv\")\n",
        "csvd = pd.DataFrame(target[\"id\"])\n",
        "csvd[\"failure\"] = y_pred\n",
        "\n",
        "compression_opts = dict(method='zip',\n",
        "                        archive_name='vc.csv')\n",
        "csvd.to_csv('vc.zip', index=False,\n",
        "          compression=compression_opts)"
      ]
    },
    {
      "cell_type": "markdown",
      "metadata": {
        "id": "Ridslud-IM7k"
      },
      "source": [
        "## Deep Learning"
      ]
    },
    {
      "cell_type": "code",
      "execution_count": null,
      "metadata": {
        "id": "F59Q6M-Q_rtw"
      },
      "outputs": [],
      "source": [
        "X_train, X_test, y_train, y_test = train_test_split(df_train, Y, test_size=0.2)\n",
        "Y = pd.DataFrame(Y)"
      ]
    },
    {
      "cell_type": "markdown",
      "metadata": {
        "id": "usy4_SwdITDh"
      },
      "source": [
        "Hyperparameter optimization"
      ]
    },
    {
      "cell_type": "code",
      "execution_count": 51,
      "metadata": {
        "colab": {
          "base_uri": "https://localhost:8080/"
        },
        "id": "hyR37epY_uds",
        "outputId": "3ea35422-6b85-411b-fc44-95fbd147defb"
      },
      "outputs": [
        {
          "output_type": "stream",
          "name": "stdout",
          "text": [
            "167/167 [==============================] - 0s 2ms/step - loss: 1.8514 - accuracy: 0.5994\n",
            "167/167 [==============================] - 0s 2ms/step - loss: 1.5179 - accuracy: 0.5990\n",
            "167/167 [==============================] - 0s 2ms/step - loss: 1.1255 - accuracy: 0.5608\n",
            "167/167 [==============================] - 0s 2ms/step - loss: 1.1459 - accuracy: 0.5928\n",
            "167/167 [==============================] - 0s 2ms/step - loss: 1.0238 - accuracy: 0.4654\n",
            "167/167 [==============================] - 0s 2ms/step - loss: 0.9716 - accuracy: 0.4648\n",
            "167/167 [==============================] - 0s 2ms/step - loss: 0.9374 - accuracy: 0.4275\n",
            "167/167 [==============================] - 0s 2ms/step - loss: 1.0440 - accuracy: 0.3892\n",
            "167/167 [==============================] - 0s 2ms/step - loss: 1.0215 - accuracy: 0.3167\n",
            "167/167 [==============================] - 0s 2ms/step - loss: 0.9865 - accuracy: 0.3097\n",
            "167/167 [==============================] - 0s 2ms/step - loss: 0.9842 - accuracy: 0.3030\n",
            "167/167 [==============================] - 0s 2ms/step - loss: 0.9836 - accuracy: 0.3214\n",
            "167/167 [==============================] - 0s 2ms/step - loss: 0.9714 - accuracy: 0.2800\n",
            "167/167 [==============================] - 0s 2ms/step - loss: 0.9693 - accuracy: 0.2540\n",
            "167/167 [==============================] - 0s 2ms/step - loss: 0.9510 - accuracy: 0.2723\n",
            "167/167 [==============================] - 0s 2ms/step - loss: 0.9666 - accuracy: 0.2422\n"
          ]
        }
      ],
      "source": [
        "best_acc = 0\n",
        "params = [8,128]\n",
        "layer = [64,32,16,8]\n",
        "batchsize = [64,128,512,256]\n",
        "\n",
        "for k in range(4):\n",
        "  for j in range(4):\n",
        "      input_size = len(X_train.columns)\n",
        "      output_size = len(Y.columns)\n",
        "      hidden_layer_size = layer[k]\n",
        "          \n",
        "\n",
        "      ann_model = tf.keras.models.Sequential([\n",
        "          tf.keras.layers.Dense(hidden_layer_size, activation='relu'),\n",
        "          tf.keras.layers.Dense(hidden_layer_size, activation='relu'), # 1st hidden layer\n",
        "          tf.keras.layers.Dense(hidden_layer_size, activation='relu'),\n",
        "\n",
        "\n",
        "# 2nd hidden layer\n",
        "          tf.keras.layers.Dense(output_size, activation='sigmoid') # output layer\n",
        "      ])\n",
        "\n",
        "\n",
        "\n",
        "      ann_model.compile(optimizer='adam', loss='binary_crossentropy', metrics=['accuracy'])\n",
        "\n",
        "      batch_size = batchsize[j]\n",
        "\n",
        "      max_epochs = 100\n",
        "\n",
        "\n",
        "\n",
        "      \n",
        "\n",
        "      ann_model.fit(X_train, \n",
        "                y_train,\n",
        "                batch_size=batch_size, \n",
        "                epochs=max_epochs,  \n",
        "                validation_data=(X_test, y_test),\n",
        "                verbose = 0,\n",
        "                class_weight={0: 0.11, 1: 1-0.11}\n",
        "                ) \n",
        "      test_loss, test_accuracy = ann_model.evaluate(X_test, y_test)\n",
        "\n",
        "      if best_acc < test_accuracy:\n",
        "        best_acc =  test_accuracy\n",
        "        params[0] = layer[k]\n",
        "        params[1] = batchsize[j]\n",
        "      tf.keras.backend.clear_session()"
      ]
    },
    {
      "cell_type": "markdown",
      "metadata": {
        "id": "qmOzF7XDIZm2"
      },
      "source": [
        "Founded best parameters for model"
      ]
    },
    {
      "cell_type": "code",
      "execution_count": 52,
      "metadata": {
        "id": "puiLF7RWGSjD",
        "colab": {
          "base_uri": "https://localhost:8080/"
        },
        "outputId": "acd37d1d-20ed-4a3a-ba8e-431214fda744"
      },
      "outputs": [
        {
          "output_type": "execute_result",
          "data": {
            "text/plain": [
              "0.5993601679801941"
            ]
          },
          "metadata": {},
          "execution_count": 52
        }
      ],
      "source": [
        "best_acc"
      ]
    },
    {
      "cell_type": "code",
      "execution_count": 57,
      "metadata": {
        "id": "4LorXQ9PJ8SS",
        "colab": {
          "base_uri": "https://localhost:8080/"
        },
        "outputId": "07643004-1eca-4b7c-cda2-df7302d837ef"
      },
      "outputs": [
        {
          "output_type": "execute_result",
          "data": {
            "text/plain": [
              "[64, 64]"
            ]
          },
          "metadata": {},
          "execution_count": 57
        }
      ],
      "source": [
        "params"
      ]
    },
    {
      "cell_type": "code",
      "execution_count": 54,
      "metadata": {
        "id": "hkf9fgAjGc6Y"
      },
      "outputs": [],
      "source": [
        "tf.keras.backend.clear_session()"
      ]
    },
    {
      "cell_type": "markdown",
      "metadata": {
        "id": "xQ8GiYvDIed_"
      },
      "source": [
        "Build the model with best parameters"
      ]
    },
    {
      "cell_type": "code",
      "execution_count": 55,
      "metadata": {
        "id": "U2KjXrVHGV0r",
        "colab": {
          "base_uri": "https://localhost:8080/"
        },
        "outputId": "cbe51756-dc53-48e3-ce20-2ae316a1262b"
      },
      "outputs": [
        {
          "output_type": "stream",
          "name": "stdout",
          "text": [
            "167/167 [==============================] - 0s 2ms/step - loss: 1.9619 - accuracy: 0.6137\n"
          ]
        }
      ],
      "source": [
        "input_size = len(X_train.columns)\n",
        "output_size = len(Y.columns)\n",
        "hidden_layer_size = params[0]\n",
        "    \n",
        "\n",
        "ann_modelnew = tf.keras.models.Sequential([\n",
        "\n",
        "    tf.keras.layers.Dense(hidden_layer_size, activation='relu'),\n",
        "    tf.keras.layers.Dense(hidden_layer_size, activation='relu'), # 1st hidden layer\n",
        "    tf.keras.layers.Dense(hidden_layer_size, activation='relu'), # 2nd hidden layer\n",
        "    tf.keras.layers.Dense(output_size, activation='sigmoid') # output layer\n",
        "])\n",
        "\n",
        "\n",
        "\n",
        "ann_modelnew.compile(optimizer='adam', loss='binary_crossentropy', metrics=['accuracy'])\n",
        "\n",
        "batch_size = params[1]\n",
        "\n",
        "max_epochs = 100\n",
        "\n",
        "\n",
        "\n",
        "\n",
        "ann_modelnew.fit(X_train, \n",
        "          y_train,\n",
        "          batch_size=batch_size, \n",
        "          epochs=max_epochs, \n",
        "          validation_data=(X_test, y_test), \n",
        "          verbose = 0,\n",
        "          class_weight={0: 0.11, 1: 1-0.11}\n",
        "          ) \n",
        "test_loss, test_accuracy = ann_modelnew.evaluate(X_test, y_test)"
      ]
    },
    {
      "cell_type": "code",
      "execution_count": 56,
      "metadata": {
        "id": "c_0aMGV0KUIM",
        "colab": {
          "base_uri": "https://localhost:8080/",
          "height": 294
        },
        "outputId": "fb1d9c25-1e66-4ade-b61b-5f562a07d66d"
      },
      "outputs": [
        {
          "output_type": "display_data",
          "data": {
            "text/plain": [
              "<Figure size 432x288 with 2 Axes>"
            ],
            "image/png": "[encoded data removed]"
          },
          "metadata": {
            "needs_background": "light"
          }
        }
      ],
      "source": [
        "y_pred = ann_modelnew.predict(X_test)\n",
        "y_pred = (y_pred > 0.5).astype(int)\n",
        "plot_confusion_matrix(y_test,y_pred)"
      ]
    },
    {
      "cell_type": "markdown",
      "metadata": {
        "id": "Y4CeI89sIi4p"
      },
      "source": [
        "Predict the test data targets"
      ]
    },
    {
      "cell_type": "code",
      "execution_count": 58,
      "metadata": {
        "id": "uFLpFpQHGvNf"
      },
      "outputs": [],
      "source": [
        "y_pred = ann_modelnew.predict(df_test)\n",
        "y_pred = (y_pred > 0.5).astype(int)"
      ]
    },
    {
      "cell_type": "code",
      "execution_count": 59,
      "metadata": {
        "id": "BUBb27GLG6Vs"
      },
      "outputs": [],
      "source": [
        "target = pd.read_csv(\"test.csv\")\n",
        "csvd = pd.DataFrame(target[\"id\"])\n",
        "csvd[\"failure\"] = y_pred\n",
        "\n",
        "compression_opts = dict(method='zip',\n",
        "                        archive_name='deep.csv')\n",
        "csvd.to_csv('deep.zip', index=False,\n",
        "          compression=compression_opts)"
      ]
    },
    {
      "cell_type": "markdown",
      "metadata": {
        "id": "02lBXj6o40hT"
      },
      "source": [
        "#Voting Classifier has the best results according to f1 score and confusion matrix "
      ]
    }
  ],
  "metadata": {
    "accelerator": "GPU",
    "colab": {
      "collapsed_sections": [
        "VQYyLayacdsg"
      ],
      "machine_shape": "hm",
      "name": "Tabular_Playground_Series.ipynb",
      "provenance": []
    },
    "gpuClass": "standard",
    "kernelspec": {
      "display_name": "Python 3",
      "name": "python3"
    },
    "language_info": {
      "name": "python"
    }
  },
  "nbformat": 4,
  "nbformat_minor": 0
}